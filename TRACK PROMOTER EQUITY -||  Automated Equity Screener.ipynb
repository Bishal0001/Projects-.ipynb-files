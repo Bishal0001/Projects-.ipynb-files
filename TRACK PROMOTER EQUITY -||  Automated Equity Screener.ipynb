{
 "cells": [
  {
   "cell_type": "code",
   "execution_count": 196,
   "id": "4faa0a1f",
   "metadata": {},
   "outputs": [],
   "source": [
    "import numpy as np \n",
    "import pandas as pd \n",
    "import requests\n",
    "from bs4 import BeautifulSoup\n",
    "import warnings\n",
    "warnings.filterwarnings(\"ignore\")\n",
    "import re"
   ]
  },
  {
   "cell_type": "code",
   "execution_count": 197,
   "id": "cc722941",
   "metadata": {},
   "outputs": [
    {
     "name": "stdout",
     "output_type": "stream",
     "text": [
      "[ True  True  True  True  True  True  True  True  True  True  True  True\n",
      "  True  True  True  True  True  True  True  True  True  True  True  True\n",
      "  True  True  True  True  True]\n"
     ]
    },
    {
     "data": {
      "text/html": [
       "<div>\n",
       "<style scoped>\n",
       "    .dataframe tbody tr th:only-of-type {\n",
       "        vertical-align: middle;\n",
       "    }\n",
       "\n",
       "    .dataframe tbody tr th {\n",
       "        vertical-align: top;\n",
       "    }\n",
       "\n",
       "    .dataframe thead th {\n",
       "        text-align: right;\n",
       "    }\n",
       "</style>\n",
       "<table border=\"1\" class=\"dataframe\">\n",
       "  <thead>\n",
       "    <tr style=\"text-align: right;\">\n",
       "      <th></th>\n",
       "      <th>SYMBOL \\n</th>\n",
       "      <th>COMPANY \\n</th>\n",
       "      <th>REGULATION \\n</th>\n",
       "      <th>NAME OF THE ACQUIRER/DISPOSER \\n</th>\n",
       "      <th>CATEGORY OF PERSON \\n</th>\n",
       "      <th>TYPE OF SECURITY (PRIOR) \\n</th>\n",
       "      <th>NO. OF SECURITY (PRIOR) \\n</th>\n",
       "      <th>% SHAREHOLDING (PRIOR) \\n</th>\n",
       "      <th>TYPE OF SECURITY (ACQUIRED/DISPLOSED) \\n</th>\n",
       "      <th>NO. OF SECURITIES (ACQUIRED/DISPLOSED) \\n</th>\n",
       "      <th>...</th>\n",
       "      <th>DERIVATIVE TYPE SECURITY \\n</th>\n",
       "      <th>DERIVATIVE CONTRACT SPECIFICATION \\n</th>\n",
       "      <th>NOTIONAL VALUE(BUY) \\n</th>\n",
       "      <th>NUMBER OF UNITS/CONTRACT LOT SIZE (BUY) \\n</th>\n",
       "      <th>NOTIONAL VALUE(SELL) \\n</th>\n",
       "      <th>NUMBER OF UNITS/CONTRACT LOT SIZE  (SELL) \\n</th>\n",
       "      <th>EXCHANGE \\n</th>\n",
       "      <th>REMARK \\n</th>\n",
       "      <th>BROADCASTE DATE AND TIME \\n</th>\n",
       "      <th>XBRL \\n</th>\n",
       "    </tr>\n",
       "  </thead>\n",
       "  <tbody>\n",
       "    <tr>\n",
       "      <th>0</th>\n",
       "      <td>VCL</td>\n",
       "      <td>Vaxtex Cotfab Limited</td>\n",
       "      <td>7(2)</td>\n",
       "      <td>Qmin Pharma Private Limited</td>\n",
       "      <td>Promoters</td>\n",
       "      <td>Equity Shares</td>\n",
       "      <td>15093246</td>\n",
       "      <td>30.07</td>\n",
       "      <td>NaN</td>\n",
       "      <td>75766.0</td>\n",
       "      <td>...</td>\n",
       "      <td>-</td>\n",
       "      <td>-</td>\n",
       "      <td>0</td>\n",
       "      <td>0</td>\n",
       "      <td>0</td>\n",
       "      <td>0</td>\n",
       "      <td>NSE</td>\n",
       "      <td>-</td>\n",
       "      <td>05-Nov-2022 16:57</td>\n",
       "      <td>https://archives.nseindia.com/corporate/xbrl/I...</td>\n",
       "    </tr>\n",
       "    <tr>\n",
       "      <th>1</th>\n",
       "      <td>BBL</td>\n",
       "      <td>Bharat Bijlee Limited</td>\n",
       "      <td>7(2)</td>\n",
       "      <td>AVANTI PRAHLAD MEHTA</td>\n",
       "      <td>Promoter Group</td>\n",
       "      <td>Equity Shares</td>\n",
       "      <td>84320</td>\n",
       "      <td>1.49</td>\n",
       "      <td>NaN</td>\n",
       "      <td>11520.0</td>\n",
       "      <td>...</td>\n",
       "      <td>-</td>\n",
       "      <td>-</td>\n",
       "      <td>0</td>\n",
       "      <td>0</td>\n",
       "      <td>0</td>\n",
       "      <td>0</td>\n",
       "      <td>NaN</td>\n",
       "      <td>-</td>\n",
       "      <td>05-Nov-2022 12:36</td>\n",
       "      <td>https://archives.nseindia.com/corporate/xbrl/I...</td>\n",
       "    </tr>\n",
       "    <tr>\n",
       "      <th>2</th>\n",
       "      <td>ROUTE</td>\n",
       "      <td>ROUTE MOBILE LIMITED</td>\n",
       "      <td>7(2)</td>\n",
       "      <td>Route Mobile Employee Welfare Trust</td>\n",
       "      <td>Other</td>\n",
       "      <td>Equity Shares</td>\n",
       "      <td>128975</td>\n",
       "      <td>0.21</td>\n",
       "      <td>NaN</td>\n",
       "      <td>90525.0</td>\n",
       "      <td>...</td>\n",
       "      <td>-</td>\n",
       "      <td>-</td>\n",
       "      <td>0</td>\n",
       "      <td>0</td>\n",
       "      <td>0</td>\n",
       "      <td>0</td>\n",
       "      <td>NaN</td>\n",
       "      <td>-</td>\n",
       "      <td>04-Nov-2022 23:19</td>\n",
       "      <td>https://archives.nseindia.com/corporate/xbrl/I...</td>\n",
       "    </tr>\n",
       "    <tr>\n",
       "      <th>3</th>\n",
       "      <td>ROUTE</td>\n",
       "      <td>ROUTE MOBILE LIMITED</td>\n",
       "      <td>7(2)</td>\n",
       "      <td>Route Mobile Employee Welfare Trust</td>\n",
       "      <td>Other</td>\n",
       "      <td>Equity Shares</td>\n",
       "      <td>128975</td>\n",
       "      <td>0.21</td>\n",
       "      <td>NaN</td>\n",
       "      <td>88000.0</td>\n",
       "      <td>...</td>\n",
       "      <td>-</td>\n",
       "      <td>-</td>\n",
       "      <td>0</td>\n",
       "      <td>0</td>\n",
       "      <td>0</td>\n",
       "      <td>0</td>\n",
       "      <td>NaN</td>\n",
       "      <td>-</td>\n",
       "      <td>04-Nov-2022 23:19</td>\n",
       "      <td>https://archives.nseindia.com/corporate/xbrl/I...</td>\n",
       "    </tr>\n",
       "    <tr>\n",
       "      <th>4</th>\n",
       "      <td>AURIONPRO</td>\n",
       "      <td>Aurionpro Solutions Limited</td>\n",
       "      <td>7(2)</td>\n",
       "      <td>ASHISH RAI</td>\n",
       "      <td>Director</td>\n",
       "      <td>Equity Shares</td>\n",
       "      <td>1798965</td>\n",
       "      <td>7.89</td>\n",
       "      <td>NaN</td>\n",
       "      <td>1000.0</td>\n",
       "      <td>...</td>\n",
       "      <td>-</td>\n",
       "      <td>-</td>\n",
       "      <td>0</td>\n",
       "      <td>0</td>\n",
       "      <td>0</td>\n",
       "      <td>0</td>\n",
       "      <td>NSE</td>\n",
       "      <td>-</td>\n",
       "      <td>04-Nov-2022 23:19</td>\n",
       "      <td>https://archives.nseindia.com/corporate/xbrl/I...</td>\n",
       "    </tr>\n",
       "  </tbody>\n",
       "</table>\n",
       "<p>5 rows × 29 columns</p>\n",
       "</div>"
      ],
      "text/plain": [
       "   SYMBOL \\n                   COMPANY \\n REGULATION \\n  \\\n",
       "0        VCL        Vaxtex Cotfab Limited          7(2)   \n",
       "1        BBL        Bharat Bijlee Limited          7(2)   \n",
       "2      ROUTE         ROUTE MOBILE LIMITED          7(2)   \n",
       "3      ROUTE         ROUTE MOBILE LIMITED          7(2)   \n",
       "4  AURIONPRO  Aurionpro Solutions Limited          7(2)   \n",
       "\n",
       "      NAME OF THE ACQUIRER/DISPOSER \\n CATEGORY OF PERSON \\n  \\\n",
       "0          Qmin Pharma Private Limited             Promoters   \n",
       "1                 AVANTI PRAHLAD MEHTA        Promoter Group   \n",
       "2  Route Mobile Employee Welfare Trust                 Other   \n",
       "3  Route Mobile Employee Welfare Trust                 Other   \n",
       "4                           ASHISH RAI              Director   \n",
       "\n",
       "  TYPE OF SECURITY (PRIOR) \\n NO. OF SECURITY (PRIOR) \\n  \\\n",
       "0               Equity Shares                   15093246   \n",
       "1               Equity Shares                      84320   \n",
       "2               Equity Shares                     128975   \n",
       "3               Equity Shares                     128975   \n",
       "4               Equity Shares                    1798965   \n",
       "\n",
       "   % SHAREHOLDING (PRIOR) \\n  TYPE OF SECURITY (ACQUIRED/DISPLOSED) \\n  \\\n",
       "0                      30.07                                       NaN   \n",
       "1                       1.49                                       NaN   \n",
       "2                       0.21                                       NaN   \n",
       "3                       0.21                                       NaN   \n",
       "4                       7.89                                       NaN   \n",
       "\n",
       "   NO. OF SECURITIES (ACQUIRED/DISPLOSED) \\n  ... DERIVATIVE TYPE SECURITY \\n  \\\n",
       "0                                    75766.0  ...                           -   \n",
       "1                                    11520.0  ...                           -   \n",
       "2                                    90525.0  ...                           -   \n",
       "3                                    88000.0  ...                           -   \n",
       "4                                     1000.0  ...                           -   \n",
       "\n",
       "  DERIVATIVE CONTRACT SPECIFICATION \\n NOTIONAL VALUE(BUY) \\n  \\\n",
       "0                                    -                      0   \n",
       "1                                    -                      0   \n",
       "2                                    -                      0   \n",
       "3                                    -                      0   \n",
       "4                                    -                      0   \n",
       "\n",
       "  NUMBER OF UNITS/CONTRACT LOT SIZE (BUY) \\n NOTIONAL VALUE(SELL) \\n  \\\n",
       "0                                          0                       0   \n",
       "1                                          0                       0   \n",
       "2                                          0                       0   \n",
       "3                                          0                       0   \n",
       "4                                          0                       0   \n",
       "\n",
       "  NUMBER OF UNITS/CONTRACT LOT SIZE  (SELL) \\n EXCHANGE \\n REMARK \\n  \\\n",
       "0                                            0         NSE         -   \n",
       "1                                            0         NaN         -   \n",
       "2                                            0         NaN         -   \n",
       "3                                            0         NaN         -   \n",
       "4                                            0         NSE         -   \n",
       "\n",
       "  BROADCASTE DATE AND TIME \\n  \\\n",
       "0           05-Nov-2022 16:57   \n",
       "1           05-Nov-2022 12:36   \n",
       "2           04-Nov-2022 23:19   \n",
       "3           04-Nov-2022 23:19   \n",
       "4           04-Nov-2022 23:19   \n",
       "\n",
       "                                             XBRL \\n  \n",
       "0  https://archives.nseindia.com/corporate/xbrl/I...  \n",
       "1  https://archives.nseindia.com/corporate/xbrl/I...  \n",
       "2  https://archives.nseindia.com/corporate/xbrl/I...  \n",
       "3  https://archives.nseindia.com/corporate/xbrl/I...  \n",
       "4  https://archives.nseindia.com/corporate/xbrl/I...  \n",
       "\n",
       "[5 rows x 29 columns]"
      ]
     },
     "execution_count": 197,
     "metadata": {},
     "output_type": "execute_result"
    }
   ],
   "source": [
    "df_old = pd.read_csv('CF18-07-2022-to-18-10-2022.csv')\n",
    "df = pd.read_csv('CF-06-08-2022-to-06-11-2022.csv')\n",
    "print(df_old.columns == df.columns)\n",
    "df.head()"
   ]
  },
  {
   "cell_type": "markdown",
   "id": "9290f6f3",
   "metadata": {},
   "source": [
    "---\n",
    "## Renaming All Columns Excluding Unnecessery Ones ."
   ]
  },
  {
   "cell_type": "code",
   "execution_count": 198,
   "id": "8333959d",
   "metadata": {},
   "outputs": [],
   "source": [
    "df = df[[\n",
    "    'SYMBOL \\n', 'CATEGORY OF PERSON \\n',\n",
    "    'NO. OF SECURITIES (ACQUIRED/DISPLOSED) \\n',\n",
    "    'VALUE OF SECURITY (ACQUIRED/DISPLOSED) \\n', 'MODE OF ACQUISITION \\n',\n",
    "    'ACQUISITION/DISPOSAL TRANSACTION TYPE \\n', 'TYPE OF SECURITY (POST) \\n',\n",
    "    '% SHAREHOLDING (PRIOR) \\n', '% POST \\n'\n",
    "]]\n",
    "\n",
    "\n",
    "df.rename(columns={'SYMBOL \\n':'SYMBOL','CATEGORY OF PERSON \\n':'CATEGORY_OF_PERSON','NO. OF SECURITIES (ACQUIRED/DISPLOSED) \\n':'NO_OF_SECURITIES_ACQUIRED','VALUE OF SECURITY (ACQUIRED/DISPLOSED) \\n':'VALUE_OF_SECURITY_ACQUIRED','ACQUISITION/DISPOSAL TRANSACTION TYPE \\n':'ACQUISITION_TRANSACTION_TYPE','MODE OF ACQUISITION \\n':'MODE_OF_ACQUISITION','% SHAREHOLDING (PRIOR) \\n':'%_SHAREHOLDING_PRIOR','% POST \\n':'%_SHAREHOLDING_POST','TYPE OF SECURITY (POST) \\n':'TYPE_OF_SECURITY'},inplace=True)"
   ]
  },
  {
   "cell_type": "code",
   "execution_count": 199,
   "id": "f55f5800",
   "metadata": {},
   "outputs": [
    {
     "data": {
      "text/html": [
       "<div>\n",
       "<style scoped>\n",
       "    .dataframe tbody tr th:only-of-type {\n",
       "        vertical-align: middle;\n",
       "    }\n",
       "\n",
       "    .dataframe tbody tr th {\n",
       "        vertical-align: top;\n",
       "    }\n",
       "\n",
       "    .dataframe thead th {\n",
       "        text-align: right;\n",
       "    }\n",
       "</style>\n",
       "<table border=\"1\" class=\"dataframe\">\n",
       "  <thead>\n",
       "    <tr style=\"text-align: right;\">\n",
       "      <th></th>\n",
       "      <th>SYMBOL</th>\n",
       "      <th>CATEGORY_OF_PERSON</th>\n",
       "      <th>NO_OF_SECURITIES_ACQUIRED</th>\n",
       "      <th>VALUE_OF_SECURITY_ACQUIRED</th>\n",
       "      <th>MODE_OF_ACQUISITION</th>\n",
       "      <th>ACQUISITION_TRANSACTION_TYPE</th>\n",
       "      <th>TYPE_OF_SECURITY</th>\n",
       "      <th>%_SHAREHOLDING_PRIOR</th>\n",
       "      <th>%_SHAREHOLDING_POST</th>\n",
       "    </tr>\n",
       "  </thead>\n",
       "  <tbody>\n",
       "    <tr>\n",
       "      <th>0</th>\n",
       "      <td>VCL</td>\n",
       "      <td>Promoters</td>\n",
       "      <td>75766.0</td>\n",
       "      <td>876147</td>\n",
       "      <td>Market Sale</td>\n",
       "      <td>Sell</td>\n",
       "      <td>Equity Shares</td>\n",
       "      <td>30.07</td>\n",
       "      <td>29.92</td>\n",
       "    </tr>\n",
       "    <tr>\n",
       "      <th>1</th>\n",
       "      <td>BBL</td>\n",
       "      <td>Promoter Group</td>\n",
       "      <td>11520.0</td>\n",
       "      <td>0</td>\n",
       "      <td>Off Market</td>\n",
       "      <td>Buy</td>\n",
       "      <td>Equity Shares</td>\n",
       "      <td>1.49</td>\n",
       "      <td>1.7</td>\n",
       "    </tr>\n",
       "    <tr>\n",
       "      <th>2</th>\n",
       "      <td>ROUTE</td>\n",
       "      <td>Other</td>\n",
       "      <td>90525.0</td>\n",
       "      <td>119588051</td>\n",
       "      <td>-</td>\n",
       "      <td>Pledge</td>\n",
       "      <td>Equity Shares</td>\n",
       "      <td>0.21</td>\n",
       "      <td>0.21</td>\n",
       "    </tr>\n",
       "    <tr>\n",
       "      <th>3</th>\n",
       "      <td>ROUTE</td>\n",
       "      <td>Other</td>\n",
       "      <td>88000.0</td>\n",
       "      <td>117392000</td>\n",
       "      <td>-</td>\n",
       "      <td>Pledge Revoke</td>\n",
       "      <td>Equity Shares</td>\n",
       "      <td>0.21</td>\n",
       "      <td>0.21</td>\n",
       "    </tr>\n",
       "    <tr>\n",
       "      <th>4</th>\n",
       "      <td>AURIONPRO</td>\n",
       "      <td>Director</td>\n",
       "      <td>1000.0</td>\n",
       "      <td>370000</td>\n",
       "      <td>Market Purchase</td>\n",
       "      <td>Buy</td>\n",
       "      <td>Equity Shares</td>\n",
       "      <td>7.89</td>\n",
       "      <td>7.89</td>\n",
       "    </tr>\n",
       "  </tbody>\n",
       "</table>\n",
       "</div>"
      ],
      "text/plain": [
       "      SYMBOL CATEGORY_OF_PERSON  NO_OF_SECURITIES_ACQUIRED  \\\n",
       "0        VCL          Promoters                    75766.0   \n",
       "1        BBL     Promoter Group                    11520.0   \n",
       "2      ROUTE              Other                    90525.0   \n",
       "3      ROUTE              Other                    88000.0   \n",
       "4  AURIONPRO           Director                     1000.0   \n",
       "\n",
       "  VALUE_OF_SECURITY_ACQUIRED MODE_OF_ACQUISITION ACQUISITION_TRANSACTION_TYPE  \\\n",
       "0                     876147         Market Sale                         Sell   \n",
       "1                          0          Off Market                          Buy   \n",
       "2                  119588051                   -                       Pledge   \n",
       "3                  117392000                   -                Pledge Revoke   \n",
       "4                     370000     Market Purchase                          Buy   \n",
       "\n",
       "  TYPE_OF_SECURITY  %_SHAREHOLDING_PRIOR %_SHAREHOLDING_POST  \n",
       "0    Equity Shares                 30.07               29.92  \n",
       "1    Equity Shares                  1.49                 1.7  \n",
       "2    Equity Shares                  0.21                0.21  \n",
       "3    Equity Shares                  0.21                0.21  \n",
       "4    Equity Shares                  7.89                7.89  "
      ]
     },
     "execution_count": 199,
     "metadata": {},
     "output_type": "execute_result"
    }
   ],
   "source": [
    "df.head()"
   ]
  },
  {
   "cell_type": "markdown",
   "id": "384fc1d8",
   "metadata": {},
   "source": [
    "---\n",
    "## Preparing Dataset For Further Analysis."
   ]
  },
  {
   "cell_type": "code",
   "execution_count": 200,
   "id": "8e3d387e",
   "metadata": {},
   "outputs": [],
   "source": [
    "df = df[df['ACQUISITION_TRANSACTION_TYPE'] == 'Buy']\n",
    "df = df[df['TYPE_OF_SECURITY'] == 'Equity Shares']\n",
    "df = df[df['TYPE_OF_SECURITY'] == 'Equity Shares']\n",
    "df = df[df['CATEGORY_OF_PERSON'].isin(['Promoters','Promoter Group'])]\n",
    "df = df[df['MODE_OF_ACQUISITION'] == 'Market Purchase']\n",
    "\n",
    "\n",
    "df = df[[\n",
    "    'SYMBOL', 'NO_OF_SECURITIES_ACQUIRED', 'VALUE_OF_SECURITY_ACQUIRED',\n",
    "    '%_SHAREHOLDING_PRIOR', '%_SHAREHOLDING_POST'\n",
    "]]"
   ]
  },
  {
   "cell_type": "code",
   "execution_count": 201,
   "id": "6f37ae05",
   "metadata": {},
   "outputs": [
    {
     "data": {
      "text/html": [
       "<div>\n",
       "<style scoped>\n",
       "    .dataframe tbody tr th:only-of-type {\n",
       "        vertical-align: middle;\n",
       "    }\n",
       "\n",
       "    .dataframe tbody tr th {\n",
       "        vertical-align: top;\n",
       "    }\n",
       "\n",
       "    .dataframe thead th {\n",
       "        text-align: right;\n",
       "    }\n",
       "</style>\n",
       "<table border=\"1\" class=\"dataframe\">\n",
       "  <thead>\n",
       "    <tr style=\"text-align: right;\">\n",
       "      <th></th>\n",
       "      <th>SYMBOL</th>\n",
       "      <th>NO_OF_SECURITIES_ACQUIRED</th>\n",
       "      <th>VALUE_OF_SECURITY_ACQUIRED</th>\n",
       "      <th>%_SHAREHOLDING_PRIOR</th>\n",
       "      <th>%_SHAREHOLDING_POST</th>\n",
       "    </tr>\n",
       "  </thead>\n",
       "  <tbody>\n",
       "    <tr>\n",
       "      <th>12</th>\n",
       "      <td>DBOL</td>\n",
       "      <td>12000.0</td>\n",
       "      <td>2039760</td>\n",
       "      <td>16.64</td>\n",
       "      <td>16.66</td>\n",
       "    </tr>\n",
       "    <tr>\n",
       "      <th>13</th>\n",
       "      <td>SPLPETRO</td>\n",
       "      <td>30000.0</td>\n",
       "      <td>24069369</td>\n",
       "      <td>0.42</td>\n",
       "      <td>0.45</td>\n",
       "    </tr>\n",
       "    <tr>\n",
       "      <th>14</th>\n",
       "      <td>SPLPETRO</td>\n",
       "      <td>10633.0</td>\n",
       "      <td>8455239</td>\n",
       "      <td>0.34</td>\n",
       "      <td>0.35</td>\n",
       "    </tr>\n",
       "    <tr>\n",
       "      <th>26</th>\n",
       "      <td>SHALBY</td>\n",
       "      <td>20000.0</td>\n",
       "      <td>2897682</td>\n",
       "      <td>7.18</td>\n",
       "      <td>7.2</td>\n",
       "    </tr>\n",
       "    <tr>\n",
       "      <th>32</th>\n",
       "      <td>MEP</td>\n",
       "      <td>328000.0</td>\n",
       "      <td>3922500</td>\n",
       "      <td>9.19</td>\n",
       "      <td>9.37</td>\n",
       "    </tr>\n",
       "  </tbody>\n",
       "</table>\n",
       "</div>"
      ],
      "text/plain": [
       "      SYMBOL  NO_OF_SECURITIES_ACQUIRED VALUE_OF_SECURITY_ACQUIRED  \\\n",
       "12      DBOL                    12000.0                    2039760   \n",
       "13  SPLPETRO                    30000.0                   24069369   \n",
       "14  SPLPETRO                    10633.0                    8455239   \n",
       "26    SHALBY                    20000.0                    2897682   \n",
       "32       MEP                   328000.0                    3922500   \n",
       "\n",
       "    %_SHAREHOLDING_PRIOR %_SHAREHOLDING_POST  \n",
       "12                 16.64               16.66  \n",
       "13                  0.42                0.45  \n",
       "14                  0.34                0.35  \n",
       "26                  7.18                 7.2  \n",
       "32                  9.19                9.37  "
      ]
     },
     "execution_count": 201,
     "metadata": {},
     "output_type": "execute_result"
    }
   ],
   "source": [
    "a = df.copy()\n",
    "df.head()"
   ]
  },
  {
   "cell_type": "markdown",
   "id": "7f922158",
   "metadata": {},
   "source": [
    "---\n",
    "## Calculations Start Here."
   ]
  },
  {
   "cell_type": "markdown",
   "id": "55cb1c6f",
   "metadata": {},
   "source": [
    "### Finding Total Values And No Of Securities Bought."
   ]
  },
  {
   "cell_type": "code",
   "execution_count": 202,
   "id": "16b1c231",
   "metadata": {},
   "outputs": [
    {
     "data": {
      "text/html": [
       "<div>\n",
       "<style scoped>\n",
       "    .dataframe tbody tr th:only-of-type {\n",
       "        vertical-align: middle;\n",
       "    }\n",
       "\n",
       "    .dataframe tbody tr th {\n",
       "        vertical-align: top;\n",
       "    }\n",
       "\n",
       "    .dataframe thead th {\n",
       "        text-align: right;\n",
       "    }\n",
       "</style>\n",
       "<table border=\"1\" class=\"dataframe\">\n",
       "  <thead>\n",
       "    <tr style=\"text-align: right;\">\n",
       "      <th></th>\n",
       "      <th>SYMBOL</th>\n",
       "      <th>NO_OF_SECURITIES_ACQUIRED</th>\n",
       "      <th>VALUE_OF_SECURITY_ACQUIRED</th>\n",
       "      <th>%_SHAREHOLDING_PRIOR</th>\n",
       "      <th>%_SHAREHOLDING_POST</th>\n",
       "    </tr>\n",
       "  </thead>\n",
       "  <tbody>\n",
       "    <tr>\n",
       "      <th>12</th>\n",
       "      <td>DBOL</td>\n",
       "      <td>12000.0</td>\n",
       "      <td>2039760</td>\n",
       "      <td>16.64</td>\n",
       "      <td>16.66</td>\n",
       "    </tr>\n",
       "    <tr>\n",
       "      <th>13</th>\n",
       "      <td>SPLPETRO</td>\n",
       "      <td>30000.0</td>\n",
       "      <td>24069369</td>\n",
       "      <td>0.42</td>\n",
       "      <td>0.45</td>\n",
       "    </tr>\n",
       "    <tr>\n",
       "      <th>14</th>\n",
       "      <td>SPLPETRO</td>\n",
       "      <td>10633.0</td>\n",
       "      <td>8455239</td>\n",
       "      <td>0.34</td>\n",
       "      <td>0.35</td>\n",
       "    </tr>\n",
       "    <tr>\n",
       "      <th>26</th>\n",
       "      <td>SHALBY</td>\n",
       "      <td>20000.0</td>\n",
       "      <td>2897682</td>\n",
       "      <td>7.18</td>\n",
       "      <td>7.2</td>\n",
       "    </tr>\n",
       "    <tr>\n",
       "      <th>32</th>\n",
       "      <td>MEP</td>\n",
       "      <td>328000.0</td>\n",
       "      <td>3922500</td>\n",
       "      <td>9.19</td>\n",
       "      <td>9.37</td>\n",
       "    </tr>\n",
       "  </tbody>\n",
       "</table>\n",
       "</div>"
      ],
      "text/plain": [
       "      SYMBOL  NO_OF_SECURITIES_ACQUIRED VALUE_OF_SECURITY_ACQUIRED  \\\n",
       "12      DBOL                    12000.0                    2039760   \n",
       "13  SPLPETRO                    30000.0                   24069369   \n",
       "14  SPLPETRO                    10633.0                    8455239   \n",
       "26    SHALBY                    20000.0                    2897682   \n",
       "32       MEP                   328000.0                    3922500   \n",
       "\n",
       "    %_SHAREHOLDING_PRIOR %_SHAREHOLDING_POST  \n",
       "12                 16.64               16.66  \n",
       "13                  0.42                0.45  \n",
       "14                  0.34                0.35  \n",
       "26                  7.18                 7.2  \n",
       "32                  9.19                9.37  "
      ]
     },
     "execution_count": 202,
     "metadata": {},
     "output_type": "execute_result"
    }
   ],
   "source": [
    "df.head()"
   ]
  },
  {
   "cell_type": "code",
   "execution_count": 203,
   "id": "57777685",
   "metadata": {},
   "outputs": [],
   "source": [
    "t_val = df[['SYMBOL','NO_OF_SECURITIES_ACQUIRED','VALUE_OF_SECURITY_ACQUIRED']]\n"
   ]
  },
  {
   "cell_type": "code",
   "execution_count": 204,
   "id": "8edde323",
   "metadata": {},
   "outputs": [
    {
     "name": "stdout",
     "output_type": "stream",
     "text": [
      "<class 'pandas.core.frame.DataFrame'>\n",
      "Int64Index: 531 entries, 12 to 4852\n",
      "Data columns (total 3 columns):\n",
      " #   Column                      Non-Null Count  Dtype  \n",
      "---  ------                      --------------  -----  \n",
      " 0   SYMBOL                      531 non-null    object \n",
      " 1   NO_OF_SECURITIES_ACQUIRED   531 non-null    float64\n",
      " 2   VALUE_OF_SECURITY_ACQUIRED  531 non-null    float64\n",
      "dtypes: float64(2), object(1)\n",
      "memory usage: 16.6+ KB\n"
     ]
    }
   ],
   "source": [
    "t_val.head()\n",
    "t_val = t_val.astype({'VALUE_OF_SECURITY_ACQUIRED':'float','NO_OF_SECURITIES_ACQUIRED':'float'})\n",
    "t_val.info()"
   ]
  },
  {
   "cell_type": "code",
   "execution_count": 205,
   "id": "f983fd2b",
   "metadata": {},
   "outputs": [
    {
     "data": {
      "text/html": [
       "<div>\n",
       "<style scoped>\n",
       "    .dataframe tbody tr th:only-of-type {\n",
       "        vertical-align: middle;\n",
       "    }\n",
       "\n",
       "    .dataframe tbody tr th {\n",
       "        vertical-align: top;\n",
       "    }\n",
       "\n",
       "    .dataframe thead th {\n",
       "        text-align: right;\n",
       "    }\n",
       "</style>\n",
       "<table border=\"1\" class=\"dataframe\">\n",
       "  <thead>\n",
       "    <tr style=\"text-align: right;\">\n",
       "      <th></th>\n",
       "      <th>SYMBOL</th>\n",
       "      <th>VALUE_OF_SECURITY_ACQUIRED</th>\n",
       "    </tr>\n",
       "  </thead>\n",
       "  <tbody>\n",
       "    <tr>\n",
       "      <th>0</th>\n",
       "      <td>ADANIENT</td>\n",
       "      <td>1.278702e+10</td>\n",
       "    </tr>\n",
       "    <tr>\n",
       "      <th>1</th>\n",
       "      <td>ADANIGREEN</td>\n",
       "      <td>9.351393e+09</td>\n",
       "    </tr>\n",
       "    <tr>\n",
       "      <th>2</th>\n",
       "      <td>ADANIPORTS</td>\n",
       "      <td>8.293400e+04</td>\n",
       "    </tr>\n",
       "    <tr>\n",
       "      <th>3</th>\n",
       "      <td>ADANITRANS</td>\n",
       "      <td>3.565280e+05</td>\n",
       "    </tr>\n",
       "    <tr>\n",
       "      <th>4</th>\n",
       "      <td>AIROLAM</td>\n",
       "      <td>7.691300e+04</td>\n",
       "    </tr>\n",
       "  </tbody>\n",
       "</table>\n",
       "</div>"
      ],
      "text/plain": [
       "       SYMBOL  VALUE_OF_SECURITY_ACQUIRED\n",
       "0    ADANIENT                1.278702e+10\n",
       "1  ADANIGREEN                9.351393e+09\n",
       "2  ADANIPORTS                8.293400e+04\n",
       "3  ADANITRANS                3.565280e+05\n",
       "4     AIROLAM                7.691300e+04"
      ]
     },
     "execution_count": 205,
     "metadata": {},
     "output_type": "execute_result"
    }
   ],
   "source": [
    "val = pd.DataFrame(t_val.groupby('SYMBOL')['VALUE_OF_SECURITY_ACQUIRED'].sum()).reset_index()\n",
    "val.head()"
   ]
  },
  {
   "cell_type": "code",
   "execution_count": 206,
   "id": "2f08041c",
   "metadata": {},
   "outputs": [
    {
     "data": {
      "text/html": [
       "<div>\n",
       "<style scoped>\n",
       "    .dataframe tbody tr th:only-of-type {\n",
       "        vertical-align: middle;\n",
       "    }\n",
       "\n",
       "    .dataframe tbody tr th {\n",
       "        vertical-align: top;\n",
       "    }\n",
       "\n",
       "    .dataframe thead th {\n",
       "        text-align: right;\n",
       "    }\n",
       "</style>\n",
       "<table border=\"1\" class=\"dataframe\">\n",
       "  <thead>\n",
       "    <tr style=\"text-align: right;\">\n",
       "      <th></th>\n",
       "      <th>SYMBOL</th>\n",
       "      <th>NO_OF_SECURITIES_ACQUIRED</th>\n",
       "    </tr>\n",
       "  </thead>\n",
       "  <tbody>\n",
       "    <tr>\n",
       "      <th>0</th>\n",
       "      <td>ADANIENT</td>\n",
       "      <td>3486140.0</td>\n",
       "    </tr>\n",
       "    <tr>\n",
       "      <th>1</th>\n",
       "      <td>ADANIGREEN</td>\n",
       "      <td>4000100.0</td>\n",
       "    </tr>\n",
       "    <tr>\n",
       "      <th>2</th>\n",
       "      <td>ADANIPORTS</td>\n",
       "      <td>100.0</td>\n",
       "    </tr>\n",
       "    <tr>\n",
       "      <th>3</th>\n",
       "      <td>ADANITRANS</td>\n",
       "      <td>100.0</td>\n",
       "    </tr>\n",
       "    <tr>\n",
       "      <th>4</th>\n",
       "      <td>AIROLAM</td>\n",
       "      <td>1050.0</td>\n",
       "    </tr>\n",
       "  </tbody>\n",
       "</table>\n",
       "</div>"
      ],
      "text/plain": [
       "       SYMBOL  NO_OF_SECURITIES_ACQUIRED\n",
       "0    ADANIENT                  3486140.0\n",
       "1  ADANIGREEN                  4000100.0\n",
       "2  ADANIPORTS                      100.0\n",
       "3  ADANITRANS                      100.0\n",
       "4     AIROLAM                     1050.0"
      ]
     },
     "execution_count": 206,
     "metadata": {},
     "output_type": "execute_result"
    }
   ],
   "source": [
    "t_sec = pd.DataFrame(t_val.groupby('SYMBOL')['NO_OF_SECURITIES_ACQUIRED'].sum()).reset_index()\n",
    "t_sec.head()"
   ]
  },
  {
   "cell_type": "markdown",
   "id": "9900dafd",
   "metadata": {},
   "source": [
    "---"
   ]
  },
  {
   "cell_type": "code",
   "execution_count": 207,
   "id": "d6658e45",
   "metadata": {},
   "outputs": [
    {
     "data": {
      "text/html": [
       "<div>\n",
       "<style scoped>\n",
       "    .dataframe tbody tr th:only-of-type {\n",
       "        vertical-align: middle;\n",
       "    }\n",
       "\n",
       "    .dataframe tbody tr th {\n",
       "        vertical-align: top;\n",
       "    }\n",
       "\n",
       "    .dataframe thead th {\n",
       "        text-align: right;\n",
       "    }\n",
       "</style>\n",
       "<table border=\"1\" class=\"dataframe\">\n",
       "  <thead>\n",
       "    <tr style=\"text-align: right;\">\n",
       "      <th></th>\n",
       "      <th>SYMBOL</th>\n",
       "      <th>VALUE_OF_SECURITY_ACQUIRED</th>\n",
       "      <th>NO_OF_SECURITIES_ACQUIRED</th>\n",
       "    </tr>\n",
       "  </thead>\n",
       "  <tbody>\n",
       "    <tr>\n",
       "      <th>12</th>\n",
       "      <td>DBOL</td>\n",
       "      <td>2039760.0</td>\n",
       "      <td>12000.0</td>\n",
       "    </tr>\n",
       "    <tr>\n",
       "      <th>13</th>\n",
       "      <td>SPLPETRO</td>\n",
       "      <td>24069369.0</td>\n",
       "      <td>30000.0</td>\n",
       "    </tr>\n",
       "    <tr>\n",
       "      <th>14</th>\n",
       "      <td>SPLPETRO</td>\n",
       "      <td>8455239.0</td>\n",
       "      <td>10633.0</td>\n",
       "    </tr>\n",
       "    <tr>\n",
       "      <th>26</th>\n",
       "      <td>SHALBY</td>\n",
       "      <td>2897682.0</td>\n",
       "      <td>20000.0</td>\n",
       "    </tr>\n",
       "    <tr>\n",
       "      <th>32</th>\n",
       "      <td>MEP</td>\n",
       "      <td>3922500.0</td>\n",
       "      <td>328000.0</td>\n",
       "    </tr>\n",
       "    <tr>\n",
       "      <th>...</th>\n",
       "      <td>...</td>\n",
       "      <td>...</td>\n",
       "      <td>...</td>\n",
       "    </tr>\n",
       "    <tr>\n",
       "      <th>4848</th>\n",
       "      <td>MAHICKRA</td>\n",
       "      <td>108600.0</td>\n",
       "      <td>1500.0</td>\n",
       "    </tr>\n",
       "    <tr>\n",
       "      <th>4849</th>\n",
       "      <td>MAHICKRA</td>\n",
       "      <td>109950.0</td>\n",
       "      <td>1500.0</td>\n",
       "    </tr>\n",
       "    <tr>\n",
       "      <th>4850</th>\n",
       "      <td>DBCORP</td>\n",
       "      <td>11350739.0</td>\n",
       "      <td>126319.0</td>\n",
       "    </tr>\n",
       "    <tr>\n",
       "      <th>4851</th>\n",
       "      <td>DBCORP</td>\n",
       "      <td>5221650.0</td>\n",
       "      <td>58003.0</td>\n",
       "    </tr>\n",
       "    <tr>\n",
       "      <th>4852</th>\n",
       "      <td>DBCORP</td>\n",
       "      <td>17642164.0</td>\n",
       "      <td>195999.0</td>\n",
       "    </tr>\n",
       "  </tbody>\n",
       "</table>\n",
       "<p>531 rows × 3 columns</p>\n",
       "</div>"
      ],
      "text/plain": [
       "        SYMBOL  VALUE_OF_SECURITY_ACQUIRED  NO_OF_SECURITIES_ACQUIRED\n",
       "12        DBOL                   2039760.0                    12000.0\n",
       "13    SPLPETRO                  24069369.0                    30000.0\n",
       "14    SPLPETRO                   8455239.0                    10633.0\n",
       "26      SHALBY                   2897682.0                    20000.0\n",
       "32         MEP                   3922500.0                   328000.0\n",
       "...        ...                         ...                        ...\n",
       "4848  MAHICKRA                    108600.0                     1500.0\n",
       "4849  MAHICKRA                    109950.0                     1500.0\n",
       "4850    DBCORP                  11350739.0                   126319.0\n",
       "4851    DBCORP                   5221650.0                    58003.0\n",
       "4852    DBCORP                  17642164.0                   195999.0\n",
       "\n",
       "[531 rows x 3 columns]"
      ]
     },
     "execution_count": 207,
     "metadata": {},
     "output_type": "execute_result"
    }
   ],
   "source": [
    "a_per_share_price = a[['SYMBOL','VALUE_OF_SECURITY_ACQUIRED','NO_OF_SECURITIES_ACQUIRED']]\n",
    "a_per_share_price = a_per_share_price[a['VALUE_OF_SECURITY_ACQUIRED'] != '-']\n",
    "a_per_share_price = a_per_share_price.astype({'VALUE_OF_SECURITY_ACQUIRED':'float','NO_OF_SECURITIES_ACQUIRED':'float'})\n",
    "\n",
    "a_per_share_price"
   ]
  },
  {
   "cell_type": "markdown",
   "id": "035519f7",
   "metadata": {},
   "source": [
    "###  Average Price / Share"
   ]
  },
  {
   "cell_type": "code",
   "execution_count": 208,
   "id": "acf1b3c5",
   "metadata": {},
   "outputs": [],
   "source": [
    "a_per_share_price['AVGPRICE_PERSHARE'] = a_per_share_price['VALUE_OF_SECURITY_ACQUIRED']/a_per_share_price['NO_OF_SECURITIES_ACQUIRED']"
   ]
  },
  {
   "cell_type": "code",
   "execution_count": 209,
   "id": "67a21c66",
   "metadata": {},
   "outputs": [],
   "source": [
    "avg_per_share_price = a_per_share_price[['SYMBOL','AVGPRICE_PERSHARE']]\n",
    "avg_per_share_price = avg_per_share_price.groupby(['SYMBOL']).mean()"
   ]
  },
  {
   "cell_type": "code",
   "execution_count": 210,
   "id": "f8ef9cbc",
   "metadata": {},
   "outputs": [],
   "source": [
    "# a_per_share_price.groupby('SYMBOL')['PERSHARE_PRICE'].unique()\n",
    "avg_per_share_price.reset_index(inplace=True)"
   ]
  },
  {
   "cell_type": "code",
   "execution_count": 211,
   "id": "570ceb55",
   "metadata": {},
   "outputs": [
    {
     "data": {
      "text/html": [
       "<div>\n",
       "<style scoped>\n",
       "    .dataframe tbody tr th:only-of-type {\n",
       "        vertical-align: middle;\n",
       "    }\n",
       "\n",
       "    .dataframe tbody tr th {\n",
       "        vertical-align: top;\n",
       "    }\n",
       "\n",
       "    .dataframe thead th {\n",
       "        text-align: right;\n",
       "    }\n",
       "</style>\n",
       "<table border=\"1\" class=\"dataframe\">\n",
       "  <thead>\n",
       "    <tr style=\"text-align: right;\">\n",
       "      <th></th>\n",
       "      <th>SYMBOL</th>\n",
       "      <th>AVGPRICE_PERSHARE</th>\n",
       "    </tr>\n",
       "  </thead>\n",
       "  <tbody>\n",
       "    <tr>\n",
       "      <th>0</th>\n",
       "      <td>ADANIENT</td>\n",
       "      <td>3655.385437</td>\n",
       "    </tr>\n",
       "    <tr>\n",
       "      <th>1</th>\n",
       "      <td>ADANIGREEN</td>\n",
       "      <td>2346.793446</td>\n",
       "    </tr>\n",
       "    <tr>\n",
       "      <th>2</th>\n",
       "      <td>ADANIPORTS</td>\n",
       "      <td>829.340000</td>\n",
       "    </tr>\n",
       "    <tr>\n",
       "      <th>3</th>\n",
       "      <td>ADANITRANS</td>\n",
       "      <td>3565.280000</td>\n",
       "    </tr>\n",
       "    <tr>\n",
       "      <th>4</th>\n",
       "      <td>AIROLAM</td>\n",
       "      <td>73.250476</td>\n",
       "    </tr>\n",
       "    <tr>\n",
       "      <th>...</th>\n",
       "      <td>...</td>\n",
       "      <td>...</td>\n",
       "    </tr>\n",
       "    <tr>\n",
       "      <th>86</th>\n",
       "      <td>VIPCLOTHNG</td>\n",
       "      <td>6.332500</td>\n",
       "    </tr>\n",
       "    <tr>\n",
       "      <th>87</th>\n",
       "      <td>VIPIND</td>\n",
       "      <td>584.046503</td>\n",
       "    </tr>\n",
       "    <tr>\n",
       "      <th>88</th>\n",
       "      <td>VSTTILLERS</td>\n",
       "      <td>2515.020000</td>\n",
       "    </tr>\n",
       "    <tr>\n",
       "      <th>89</th>\n",
       "      <td>WSTCSTPAPR</td>\n",
       "      <td>478.914900</td>\n",
       "    </tr>\n",
       "    <tr>\n",
       "      <th>90</th>\n",
       "      <td>ZYDUSWELL</td>\n",
       "      <td>1594.294180</td>\n",
       "    </tr>\n",
       "  </tbody>\n",
       "</table>\n",
       "<p>91 rows × 2 columns</p>\n",
       "</div>"
      ],
      "text/plain": [
       "        SYMBOL  AVGPRICE_PERSHARE\n",
       "0     ADANIENT        3655.385437\n",
       "1   ADANIGREEN        2346.793446\n",
       "2   ADANIPORTS         829.340000\n",
       "3   ADANITRANS        3565.280000\n",
       "4      AIROLAM          73.250476\n",
       "..         ...                ...\n",
       "86  VIPCLOTHNG           6.332500\n",
       "87      VIPIND         584.046503\n",
       "88  VSTTILLERS        2515.020000\n",
       "89  WSTCSTPAPR         478.914900\n",
       "90   ZYDUSWELL        1594.294180\n",
       "\n",
       "[91 rows x 2 columns]"
      ]
     },
     "execution_count": 211,
     "metadata": {},
     "output_type": "execute_result"
    }
   ],
   "source": [
    "avg_per_share_price"
   ]
  },
  {
   "cell_type": "markdown",
   "id": "0618b265",
   "metadata": {},
   "source": [
    "###  Maximun And Minimun Price Per Share"
   ]
  },
  {
   "cell_type": "code",
   "execution_count": 212,
   "id": "d0528916",
   "metadata": {},
   "outputs": [
    {
     "data": {
      "text/html": [
       "<div>\n",
       "<style scoped>\n",
       "    .dataframe tbody tr th:only-of-type {\n",
       "        vertical-align: middle;\n",
       "    }\n",
       "\n",
       "    .dataframe tbody tr th {\n",
       "        vertical-align: top;\n",
       "    }\n",
       "\n",
       "    .dataframe thead th {\n",
       "        text-align: right;\n",
       "    }\n",
       "</style>\n",
       "<table border=\"1\" class=\"dataframe\">\n",
       "  <thead>\n",
       "    <tr style=\"text-align: right;\">\n",
       "      <th></th>\n",
       "      <th>SYMBOL</th>\n",
       "      <th>HIGH</th>\n",
       "    </tr>\n",
       "  </thead>\n",
       "  <tbody>\n",
       "    <tr>\n",
       "      <th>0</th>\n",
       "      <td>ADANIENT</td>\n",
       "      <td>3851.91</td>\n",
       "    </tr>\n",
       "    <tr>\n",
       "      <th>1</th>\n",
       "      <td>ADANIGREEN</td>\n",
       "      <td>2424.44</td>\n",
       "    </tr>\n",
       "    <tr>\n",
       "      <th>2</th>\n",
       "      <td>ADANIPORTS</td>\n",
       "      <td>829.34</td>\n",
       "    </tr>\n",
       "    <tr>\n",
       "      <th>3</th>\n",
       "      <td>ADANITRANS</td>\n",
       "      <td>3565.28</td>\n",
       "    </tr>\n",
       "    <tr>\n",
       "      <th>4</th>\n",
       "      <td>AIROLAM</td>\n",
       "      <td>73.25</td>\n",
       "    </tr>\n",
       "  </tbody>\n",
       "</table>\n",
       "</div>"
      ],
      "text/plain": [
       "       SYMBOL     HIGH\n",
       "0    ADANIENT  3851.91\n",
       "1  ADANIGREEN  2424.44\n",
       "2  ADANIPORTS   829.34\n",
       "3  ADANITRANS  3565.28\n",
       "4     AIROLAM    73.25"
      ]
     },
     "execution_count": 212,
     "metadata": {},
     "output_type": "execute_result"
    }
   ],
   "source": [
    "highest_range  = pd.DataFrame(a_per_share_price.groupby('SYMBOL')['AVGPRICE_PERSHARE'].max()).reset_index()\n",
    "highest_range['HIGH'] = round(highest_range['AVGPRICE_PERSHARE'],2)\n",
    "highest_range = highest_range[['SYMBOL','HIGH']]\n",
    "highest_range.head()"
   ]
  },
  {
   "cell_type": "code",
   "execution_count": 213,
   "id": "752c11e2",
   "metadata": {},
   "outputs": [
    {
     "data": {
      "text/html": [
       "<div>\n",
       "<style scoped>\n",
       "    .dataframe tbody tr th:only-of-type {\n",
       "        vertical-align: middle;\n",
       "    }\n",
       "\n",
       "    .dataframe tbody tr th {\n",
       "        vertical-align: top;\n",
       "    }\n",
       "\n",
       "    .dataframe thead th {\n",
       "        text-align: right;\n",
       "    }\n",
       "</style>\n",
       "<table border=\"1\" class=\"dataframe\">\n",
       "  <thead>\n",
       "    <tr style=\"text-align: right;\">\n",
       "      <th></th>\n",
       "      <th>SYMBOL</th>\n",
       "      <th>LOW</th>\n",
       "    </tr>\n",
       "  </thead>\n",
       "  <tbody>\n",
       "    <tr>\n",
       "      <th>0</th>\n",
       "      <td>ADANIENT</td>\n",
       "      <td>3464.09</td>\n",
       "    </tr>\n",
       "    <tr>\n",
       "      <th>1</th>\n",
       "      <td>ADANIGREEN</td>\n",
       "      <td>2223.14</td>\n",
       "    </tr>\n",
       "    <tr>\n",
       "      <th>2</th>\n",
       "      <td>ADANIPORTS</td>\n",
       "      <td>829.34</td>\n",
       "    </tr>\n",
       "    <tr>\n",
       "      <th>3</th>\n",
       "      <td>ADANITRANS</td>\n",
       "      <td>3565.28</td>\n",
       "    </tr>\n",
       "    <tr>\n",
       "      <th>4</th>\n",
       "      <td>AIROLAM</td>\n",
       "      <td>73.25</td>\n",
       "    </tr>\n",
       "  </tbody>\n",
       "</table>\n",
       "</div>"
      ],
      "text/plain": [
       "       SYMBOL      LOW\n",
       "0    ADANIENT  3464.09\n",
       "1  ADANIGREEN  2223.14\n",
       "2  ADANIPORTS   829.34\n",
       "3  ADANITRANS  3565.28\n",
       "4     AIROLAM    73.25"
      ]
     },
     "execution_count": 213,
     "metadata": {},
     "output_type": "execute_result"
    }
   ],
   "source": [
    "lowest_range = pd.DataFrame(a_per_share_price.groupby('SYMBOL')['AVGPRICE_PERSHARE'].min()).reset_index()\n",
    "lowest_range['LOW'] = round(lowest_range['AVGPRICE_PERSHARE'],2)\n",
    "lowest_range = lowest_range[['SYMBOL','LOW']]\n",
    "lowest_range.head()"
   ]
  },
  {
   "cell_type": "code",
   "execution_count": 214,
   "id": "9499fc38",
   "metadata": {},
   "outputs": [
    {
     "data": {
      "text/plain": [
       "True"
      ]
     },
     "execution_count": 214,
     "metadata": {},
     "output_type": "execute_result"
    }
   ],
   "source": [
    "highest_range.shape == lowest_range.shape == avg_per_share_price.shape"
   ]
  },
  {
   "cell_type": "markdown",
   "id": "a2bb7b8a",
   "metadata": {},
   "source": [
    "---\n",
    "### Shareholding Percentage Prior And Post "
   ]
  },
  {
   "cell_type": "code",
   "execution_count": 215,
   "id": "46d82899",
   "metadata": {},
   "outputs": [],
   "source": [
    "shareholding_prcnt = a[['SYMBOL','%_SHAREHOLDING_PRIOR','%_SHAREHOLDING_POST']]"
   ]
  },
  {
   "cell_type": "code",
   "execution_count": 216,
   "id": "59d66d04",
   "metadata": {},
   "outputs": [],
   "source": [
    "shareholding_prcnt = shareholding_prcnt.astype({'%_SHAREHOLDING_PRIOR':'float','%_SHAREHOLDING_POST':'float'})"
   ]
  },
  {
   "cell_type": "code",
   "execution_count": 217,
   "id": "907d42bc",
   "metadata": {},
   "outputs": [
    {
     "data": {
      "text/html": [
       "<div>\n",
       "<style scoped>\n",
       "    .dataframe tbody tr th:only-of-type {\n",
       "        vertical-align: middle;\n",
       "    }\n",
       "\n",
       "    .dataframe tbody tr th {\n",
       "        vertical-align: top;\n",
       "    }\n",
       "\n",
       "    .dataframe thead th {\n",
       "        text-align: right;\n",
       "    }\n",
       "</style>\n",
       "<table border=\"1\" class=\"dataframe\">\n",
       "  <thead>\n",
       "    <tr style=\"text-align: right;\">\n",
       "      <th></th>\n",
       "      <th>SYMBOL</th>\n",
       "      <th>%_SHAREHOLDING_PRIOR</th>\n",
       "      <th>%_SHAREHOLDING_POST</th>\n",
       "      <th>BUY%</th>\n",
       "    </tr>\n",
       "  </thead>\n",
       "  <tbody>\n",
       "    <tr>\n",
       "      <th>12</th>\n",
       "      <td>DBOL</td>\n",
       "      <td>16.64</td>\n",
       "      <td>16.66</td>\n",
       "      <td>0.02</td>\n",
       "    </tr>\n",
       "    <tr>\n",
       "      <th>13</th>\n",
       "      <td>SPLPETRO</td>\n",
       "      <td>0.42</td>\n",
       "      <td>0.45</td>\n",
       "      <td>0.03</td>\n",
       "    </tr>\n",
       "    <tr>\n",
       "      <th>14</th>\n",
       "      <td>SPLPETRO</td>\n",
       "      <td>0.34</td>\n",
       "      <td>0.35</td>\n",
       "      <td>0.01</td>\n",
       "    </tr>\n",
       "    <tr>\n",
       "      <th>26</th>\n",
       "      <td>SHALBY</td>\n",
       "      <td>7.18</td>\n",
       "      <td>7.20</td>\n",
       "      <td>0.02</td>\n",
       "    </tr>\n",
       "    <tr>\n",
       "      <th>32</th>\n",
       "      <td>MEP</td>\n",
       "      <td>9.19</td>\n",
       "      <td>9.37</td>\n",
       "      <td>0.18</td>\n",
       "    </tr>\n",
       "    <tr>\n",
       "      <th>...</th>\n",
       "      <td>...</td>\n",
       "      <td>...</td>\n",
       "      <td>...</td>\n",
       "      <td>...</td>\n",
       "    </tr>\n",
       "    <tr>\n",
       "      <th>4848</th>\n",
       "      <td>MAHICKRA</td>\n",
       "      <td>21.80</td>\n",
       "      <td>21.82</td>\n",
       "      <td>0.02</td>\n",
       "    </tr>\n",
       "    <tr>\n",
       "      <th>4849</th>\n",
       "      <td>MAHICKRA</td>\n",
       "      <td>21.78</td>\n",
       "      <td>21.80</td>\n",
       "      <td>0.02</td>\n",
       "    </tr>\n",
       "    <tr>\n",
       "      <th>4850</th>\n",
       "      <td>DBCORP</td>\n",
       "      <td>4.57</td>\n",
       "      <td>4.63</td>\n",
       "      <td>0.06</td>\n",
       "    </tr>\n",
       "    <tr>\n",
       "      <th>4851</th>\n",
       "      <td>DBCORP</td>\n",
       "      <td>4.63</td>\n",
       "      <td>4.67</td>\n",
       "      <td>0.04</td>\n",
       "    </tr>\n",
       "    <tr>\n",
       "      <th>4852</th>\n",
       "      <td>DBCORP</td>\n",
       "      <td>4.46</td>\n",
       "      <td>4.57</td>\n",
       "      <td>0.11</td>\n",
       "    </tr>\n",
       "  </tbody>\n",
       "</table>\n",
       "<p>531 rows × 4 columns</p>\n",
       "</div>"
      ],
      "text/plain": [
       "        SYMBOL  %_SHAREHOLDING_PRIOR  %_SHAREHOLDING_POST  BUY%\n",
       "12        DBOL                 16.64                16.66  0.02\n",
       "13    SPLPETRO                  0.42                 0.45  0.03\n",
       "14    SPLPETRO                  0.34                 0.35  0.01\n",
       "26      SHALBY                  7.18                 7.20  0.02\n",
       "32         MEP                  9.19                 9.37  0.18\n",
       "...        ...                   ...                  ...   ...\n",
       "4848  MAHICKRA                 21.80                21.82  0.02\n",
       "4849  MAHICKRA                 21.78                21.80  0.02\n",
       "4850    DBCORP                  4.57                 4.63  0.06\n",
       "4851    DBCORP                  4.63                 4.67  0.04\n",
       "4852    DBCORP                  4.46                 4.57  0.11\n",
       "\n",
       "[531 rows x 4 columns]"
      ]
     },
     "execution_count": 217,
     "metadata": {},
     "output_type": "execute_result"
    }
   ],
   "source": [
    "shareholding_prcnt['BUY%'] = shareholding_prcnt['%_SHAREHOLDING_POST'] - shareholding_prcnt['%_SHAREHOLDING_PRIOR']\n",
    "shareholding_prcnt"
   ]
  },
  {
   "cell_type": "code",
   "execution_count": 218,
   "id": "beb17c2b",
   "metadata": {},
   "outputs": [],
   "source": [
    "prior  = pd.DataFrame(shareholding_prcnt.groupby('SYMBOL')['%_SHAREHOLDING_PRIOR'].max()).reset_index()\n",
    "post  = pd.DataFrame(shareholding_prcnt.groupby('SYMBOL')['%_SHAREHOLDING_POST'].max()).reset_index()"
   ]
  },
  {
   "cell_type": "code",
   "execution_count": 219,
   "id": "116a7ad4",
   "metadata": {},
   "outputs": [
    {
     "data": {
      "text/html": [
       "<div>\n",
       "<style scoped>\n",
       "    .dataframe tbody tr th:only-of-type {\n",
       "        vertical-align: middle;\n",
       "    }\n",
       "\n",
       "    .dataframe tbody tr th {\n",
       "        vertical-align: top;\n",
       "    }\n",
       "\n",
       "    .dataframe thead th {\n",
       "        text-align: right;\n",
       "    }\n",
       "</style>\n",
       "<table border=\"1\" class=\"dataframe\">\n",
       "  <thead>\n",
       "    <tr style=\"text-align: right;\">\n",
       "      <th></th>\n",
       "      <th>SYMBOL</th>\n",
       "      <th>%_SHAREHOLDING_PRIOR</th>\n",
       "    </tr>\n",
       "  </thead>\n",
       "  <tbody>\n",
       "    <tr>\n",
       "      <th>0</th>\n",
       "      <td>ADANIENT</td>\n",
       "      <td>0.32</td>\n",
       "    </tr>\n",
       "    <tr>\n",
       "      <th>1</th>\n",
       "      <td>ADANIGREEN</td>\n",
       "      <td>0.22</td>\n",
       "    </tr>\n",
       "    <tr>\n",
       "      <th>2</th>\n",
       "      <td>ADANIPORTS</td>\n",
       "      <td>0.00</td>\n",
       "    </tr>\n",
       "    <tr>\n",
       "      <th>3</th>\n",
       "      <td>ADANITRANS</td>\n",
       "      <td>0.00</td>\n",
       "    </tr>\n",
       "    <tr>\n",
       "      <th>4</th>\n",
       "      <td>AIROLAM</td>\n",
       "      <td>7.68</td>\n",
       "    </tr>\n",
       "    <tr>\n",
       "      <th>...</th>\n",
       "      <td>...</td>\n",
       "      <td>...</td>\n",
       "    </tr>\n",
       "    <tr>\n",
       "      <th>86</th>\n",
       "      <td>VIPCLOTHNG</td>\n",
       "      <td>0.50</td>\n",
       "    </tr>\n",
       "    <tr>\n",
       "      <th>87</th>\n",
       "      <td>VIPIND</td>\n",
       "      <td>1.91</td>\n",
       "    </tr>\n",
       "    <tr>\n",
       "      <th>88</th>\n",
       "      <td>VSTTILLERS</td>\n",
       "      <td>22.02</td>\n",
       "    </tr>\n",
       "    <tr>\n",
       "      <th>89</th>\n",
       "      <td>WSTCSTPAPR</td>\n",
       "      <td>3.52</td>\n",
       "    </tr>\n",
       "    <tr>\n",
       "      <th>90</th>\n",
       "      <td>ZYDUSWELL</td>\n",
       "      <td>7.75</td>\n",
       "    </tr>\n",
       "  </tbody>\n",
       "</table>\n",
       "<p>91 rows × 2 columns</p>\n",
       "</div>"
      ],
      "text/plain": [
       "        SYMBOL  %_SHAREHOLDING_PRIOR\n",
       "0     ADANIENT                  0.32\n",
       "1   ADANIGREEN                  0.22\n",
       "2   ADANIPORTS                  0.00\n",
       "3   ADANITRANS                  0.00\n",
       "4      AIROLAM                  7.68\n",
       "..         ...                   ...\n",
       "86  VIPCLOTHNG                  0.50\n",
       "87      VIPIND                  1.91\n",
       "88  VSTTILLERS                 22.02\n",
       "89  WSTCSTPAPR                  3.52\n",
       "90   ZYDUSWELL                  7.75\n",
       "\n",
       "[91 rows x 2 columns]"
      ]
     },
     "execution_count": 219,
     "metadata": {},
     "output_type": "execute_result"
    }
   ],
   "source": [
    "prior"
   ]
  },
  {
   "cell_type": "markdown",
   "id": "16fca4c2",
   "metadata": {},
   "source": [
    "---\n",
    "## Merging Sarts Here."
   ]
  },
  {
   "cell_type": "code",
   "execution_count": 220,
   "id": "cfb2efa8",
   "metadata": {},
   "outputs": [],
   "source": [
    "main_df = avg_per_share_price.merge(highest_range,on='SYMBOL')\n",
    "main_df = main_df.merge(lowest_range,on='SYMBOL')\n",
    "main_df = main_df.merge(prior,on='SYMBOL')\n",
    "main_df = main_df.merge(post,on='SYMBOL')\n",
    "main_df = main_df.merge(val,on='SYMBOL')\n",
    "main_df = main_df.merge(t_sec,on='SYMBOL')\n",
    "\n",
    "\n",
    "\n"
   ]
  },
  {
   "cell_type": "code",
   "execution_count": 221,
   "id": "7234d258",
   "metadata": {},
   "outputs": [],
   "source": [
    "main_df['%_BUY'] = main_df['%_SHAREHOLDING_POST'].astype(float) - main_df['%_SHAREHOLDING_PRIOR'].astype(float)"
   ]
  },
  {
   "cell_type": "markdown",
   "id": "0a5b9403",
   "metadata": {},
   "source": [
    "---\n",
    "### Scrape Current Prices"
   ]
  },
  {
   "cell_type": "code",
   "execution_count": 222,
   "id": "8d7baaed",
   "metadata": {},
   "outputs": [],
   "source": [
    "y = list(main_df['SYMBOL'])"
   ]
  },
  {
   "cell_type": "code",
   "execution_count": 223,
   "id": "67c739e6",
   "metadata": {
    "scrolled": false
   },
   "outputs": [
    {
     "name": "stdout",
     "output_type": "stream",
     "text": [
      "\n",
      "______________________________ \n",
      "\n",
      "{'ADANIENT': ['72.63'], 'ADANIGREEN': ['60.75'], 'ADANIPORTS': ['66.02'], 'ADANITRANS': ['73.87'], 'AIROLAM': ['52.33'], 'ALMONDZ': ['59.8'], 'ANANTRAJ': ['63.03'], 'APCOTEXIND': ['58.22'], 'ARIES': ['52.66'], 'ASAHIINDIA': ['54.24'], 'ASTEC': ['66.77'], 'BECTORFOOD': ['51.14'], 'BSHSL': ['73.27'], 'CHEMBOND': ['67.49'], 'CLEDUCATE': ['52.5'], 'CONFIPET': ['60.08'], 'CONSOFINVT': ['71.53'], 'COSMOFIRST': ['44.24'], 'CREST': ['68.7'], 'DBCORP': ['72.32'], 'DCW': ['44.85'], 'DHAMPURSUG': ['49.08'], 'ELECON': ['59.29'], 'EMMBI': ['58.31'], 'FCL': ['64.97'], 'GANESHBE': ['44.68'], 'GHCL': ['19.03'], 'GNA': ['67.96'], 'GODREJAGRO': ['74.07'], 'GODREJPROP': ['58.48'], 'GREENPLY': ['52.32'], 'GRPLTD': ['41.51'], 'HCLTECH': ['60.72'], 'HERANBA': ['74.87'], 'IPL': ['67.2'], 'IRB': ['34.2'], 'JINDALSTEL': ['61.2'], 'KDDL': ['49.08'], 'KMSUGAR': ['56.52'], 'KPIGREEN': ['54.7'], 'KSOLVES': ['58.94'], 'LAMBODHARA': ['72.95'], 'LINC': ['58.7'], 'MAHICKRA': ['51.33'], 'MAHINDCIE': ['74.96'], 'MAHSEAMLES': ['67.25'], 'MANAPPURAM': ['35.18'], 'MANGLMCEM': ['31.96'], 'MANINFRA': ['67.03'], 'MASTEK': ['37.28'], 'MEP': ['57.9'], 'MUKANDLTD': ['73.82'], 'NATHBIOGEN': ['45.6'], 'NCLIND': ['46.14'], 'NUVOCO': ['71.79'], 'ORIENTBELL': ['64.39'], 'PATINTLOG': ['41.08'], 'PENIND': ['39.74'], 'PKTEA': ['58.54'], 'PSPPROJECT': ['70.45'], 'RGL': ['70.69'], 'RKFORGE': ['46.27'], 'RPGLIFE': ['72.61'], 'RPSGVENT': ['59.09'], 'SANGHIIND': ['71.93'], 'SAPPHIRE': ['51.26'], 'SASKEN': ['43.37'], 'SDBL': ['30.41'], 'SHALBY': ['74.04'], 'SHILPAMED': ['50.01'], 'SILLYMONKS': ['47.52'], 'SKMEGGPROD': ['55.56'], 'SOLARA': ['40.4'], 'SONAMCLOCK': ['74.11'], 'SPLPETRO': ['64.14'], 'SRPL': ['46.1'], 'STARCEMENT': ['67.43'], 'TALBROAUTO': ['58.32'], 'TARC': ['65.92'], 'TOKYOPLAST': ['63.11'], 'TTL': ['58.52'], 'TWL': ['47.26'], 'UGARSUGAR': ['44.52'], 'USHAMART': ['48.7'], 'VAIBHAVGBL': ['57.89'], 'VIPCLOTHNG': ['49.59'], 'VIPIND': ['51.33'], 'VSTTILLERS': ['55.57'], 'WSTCSTPAPR': ['56.52'], 'ZYDUSWELL': ['65.35']} \n",
      "\n",
      "['DBOL'] \n",
      "\n",
      "______________________________ \n",
      "\n",
      "{'ADANIENT': ' 3,833', 'ADANIGREEN': ' 2,121', 'ADANIPORTS': ' 863', 'ADANITRANS': ' 3,319', 'AIROLAM': ' 106', 'ALMONDZ': ' 81.6', 'ANANTRAJ': ' 115', 'APCOTEXIND': ' 516', 'ARIES': ' 130', 'ASAHIINDIA': ' 618', 'ASTEC': ' 2,174', 'BECTORFOOD': ' 386', 'BSHSL': ' 106', 'CHEMBOND': ' 195', 'CLEDUCATE': ' 151', 'CONFIPET': ' 69.8', 'CONSOFINVT': ' 135', 'COSMOFIRST': ' 770', 'CREST': ' 172', 'DBCORP': ' 113', 'DBOL': ' 170', 'DCW': ' 59.4', 'DHAMPURSUG': ' 203', 'ELECON': ' 398', 'EMMBI': ' 99.0', 'FCL': ' 340', 'GANESHBE': ' 152', 'GHCL': ' 631', 'GNA': ' 667', 'GODREJAGRO': ' 500', 'GODREJPROP': ' 1,259', 'GREENPLY': ' 170', 'GRPLTD': ' 1,822', 'HCLTECH': ' 1,045', 'HERANBA': ' 514', 'IPL': ' 265', 'IRB': ' 237', 'JINDALSTEL': ' 477', 'KDDL': ' 1,058', 'KMSUGAR': ' 25.7', 'KPIGREEN': ' 704', 'KSOLVES': ' 480', 'LAMBODHARA': ' 91.4', 'LINC': ' 275', 'MAHICKRA': ' 69.5', 'MAHINDCIE': ' 302', 'MAHSEAMLES': ' 802', 'MANAPPURAM': ' 104', 'MANGLMCEM': ' 381', 'MANINFRA': ' 82.7', 'MASTEK': ' 1,687', 'MEP': ' 15.8', 'MUKANDLTD': ' 105', 'NATHBIOGEN': ' 172', 'NCLIND': ' 182', 'NUVOCO': ' 402', 'ORIENTBELL': ' 571', 'PATINTLOG': ' 14.0', 'PENIND': ' 58.1', 'PKTEA': ' 273', 'PSPPROJECT': ' 613', 'RGL': ' 109', 'RKFORGE': ' 237', 'RPGLIFE': ' 872', 'RPSGVENT': ' 486', 'SANGHIIND': ' 56.4', 'SAPPHIRE': ' 1,431', 'SASKEN': ' 902', 'SDBL': ' 116', 'SHALBY': ' 142', 'SHILPAMED': ' 314', 'SILLYMONKS': ' 35.8', 'SKMEGGPROD': ' 111', 'SOLARA': ' 428', 'SONAMCLOCK': ' 42.8', 'SPLPETRO': ' 774', 'SRPL': ' 68.2', 'STARCEMENT': ' 105', 'TALBROAUTO': ' 489', 'TARC': ' 43.8', 'TOKYOPLAST': ' 101', 'TTL': ' 99.6', 'TWL': ' 160', 'UGARSUGAR': ' 78.2', 'USHAMART': ' 141', 'VAIBHAVGBL': ' 346', 'VIPCLOTHNG': ' 35.0', 'VIPIND': ' 730', 'VSTTILLERS': ' 2,281', 'WSTCSTPAPR': ' 583', 'ZYDUSWELL': ' 1,756'} \n",
      "\n",
      "[] \n",
      "\n",
      "______________________________ \n",
      "\n",
      "{'ADANIENT': '436991', 'ADANIGREEN': '336013', 'ADANIPORTS': '186398', 'ADANITRANS': '370282', 'AIROLAM': '159', 'ALMONDZ': '211', 'ANANTRAJ': '3722', 'APCOTEXIND': '2673', 'ARIES': '169', 'ASAHIINDIA': '15011', 'ASTEC': '4262', 'BECTORFOOD': '2271', 'BSHSL': '1115', 'CHEMBOND': '263', 'CLEDUCATE': '415', 'CONFIPET': '1984', 'CONSOFINVT': '437', 'COSMOFIRST': '2098', 'CREST': '490', 'DBCORP': '2007', 'DBOL': '1127', 'DCW': '1755', 'DHAMPURSUG': '1351', 'ELECON': '4467', 'EMMBI': '175', 'FCL': '3761', 'GANESHBE': '945', 'GHCL': '6032', 'GNA': '1432', 'GODREJAGRO': '9615', 'GODREJPROP': '34997', 'GREENPLY': '2086', 'GRPLTD': '242', 'HCLTECH': '283673', 'HERANBA': '2057', 'IPL': '3051', 'IRB': '14321', 'JINDALSTEL': '48694', 'KDDL': '1348', 'KMSUGAR': '236', 'KPIGREEN': '1272', 'KSOLVES': '569', 'LAMBODHARA': '94.9', 'LINC': '409', 'MAHICKRA': '56.4', 'MAHINDCIE': '11467', 'MAHSEAMLES': '5372', 'MANAPPURAM': '8811', 'MANGLMCEM': '1047', 'MANINFRA': '3070', 'MASTEK': '5073', 'MEP': '290', 'MUKANDLTD': '1520', 'NATHBIOGEN': '326', 'NCLIND': '826', 'NUVOCO': '14356', 'ORIENTBELL': '826', 'PATINTLOG': '36.6', 'PENIND': '784', 'PKTEA': '84.6', 'PSPPROJECT': '2208', 'RGL': '1032', 'RKFORGE': '3803', 'RPGLIFE': '1442', 'RPSGVENT': '1434', 'SANGHIIND': '1417', 'SAPPHIRE': '9093', 'SASKEN': '1357', 'SDBL': '815', 'SHALBY': '1530', 'SHILPAMED': '2729', 'SILLYMONKS': '36.6', 'SKMEGGPROD': '292', 'SOLARA': '1542', 'SONAMCLOCK': '85.6', 'SPLPETRO': '7272', 'SRPL': '146', 'STARCEMENT': '4242', 'TALBROAUTO': '603', 'TARC': '1293', 'TOKYOPLAST': '95.7', 'TTL': '214', 'TWL': '1917', 'UGARSUGAR': '880', 'USHAMART': '4303', 'VAIBHAVGBL': '5700', 'VIPCLOTHNG': '290', 'VIPIND': '10332', 'VSTTILLERS': '1971', 'WSTCSTPAPR': '3853', 'ZYDUSWELL': '11175'} \n",
      "\n",
      "[] \n",
      "\n",
      "286.2147831916809\n"
     ]
    }
   ],
   "source": [
    "\n",
    "# Python program to illustrate the concept\n",
    "# of threading\n",
    "# importing the threading module\n",
    "import threading\n",
    "import time\n",
    "import numpy as np \n",
    "import pandas as pd \n",
    "import requests\n",
    "from bs4 import BeautifulSoup\n",
    "import warnings\n",
    "warnings.filterwarnings(\"ignore\")\n",
    "import re\n",
    "\n",
    "start_time = time.time()\n",
    "y = list(main_df['SYMBOL'])\n",
    "got1,not_got1,got,not_got,got_mcap,n_got_mcap = [],[],[],[],[],[] \n",
    "\n",
    "def promoter_holding(y):\n",
    "    global got1,not_got1\n",
    "    \n",
    "    price1 = {}\n",
    "    not_happened1 = []\n",
    "    \n",
    "    for i in y:\n",
    "        stockcode = str(i)\n",
    "        \n",
    "        stock_url  = f\"https://ticker.finology.in/company/{stockcode}\"\n",
    "        response = requests.get(stock_url)\n",
    "        time.sleep(2)\n",
    "        soup = BeautifulSoup(response.text, 'lxml')\n",
    "        if len(re.findall(r'\\d+.\\d*', soup.find_all('p')[15].text[1:])) > 0:\n",
    "            price1[i] = re.findall(r'\\d+.\\d*', soup.find_all('p')[15].text[1:])\n",
    "        else:\n",
    "            not_happened1.append(i)   \n",
    "    got1=price1\n",
    "    not_got1 = not_happened1\n",
    "\n",
    "\n",
    "    return [price1,not_happened1]\n",
    "\n",
    " \n",
    "    \n",
    "    \n",
    "    \n",
    "    \n",
    "\n",
    "def realpriceupdate(y):\n",
    "    global got,not_got\n",
    "    \n",
    "    price = {}\n",
    "    not_happened = []\n",
    "    \n",
    "    for i in y:\n",
    "        stockcode = str(i)\n",
    "        stock_url  = f\"https://www.screener.in/company/{stockcode}/\"\n",
    "        response = requests.get(stock_url)\n",
    "        time.sleep(2)\n",
    "        soup = BeautifulSoup(response.text, 'lxml')\n",
    "        if len(soup.find_all('div',{\"class\":\"flex flex-align-center\"})) > 0:\n",
    "            price[i] = (soup.find_all('div',{\"class\":\"flex flex-align-center\"})[0].find('span').text[1:])\n",
    "        else:\n",
    "            not_happened.append(i)      \n",
    "\n",
    "    got = price\n",
    "    not_got = not_happened\n",
    "            \n",
    "    return [price,not_happened][1]\n",
    "\n",
    "\n",
    "\n",
    "\n",
    "\n",
    "def marketcap(y):\n",
    "    global got_mcap,not_got_mcap\n",
    "    \n",
    "    m_cap = {}\n",
    "    not_happened2 = []\n",
    "    \n",
    "    for i in y:\n",
    "        stockcode = str(i)\n",
    "        stock_url  = f\"https://www.screener.in/company/{stockcode}/\"\n",
    "        response = requests.get(stock_url)\n",
    "        time.sleep(2)\n",
    "        soup = BeautifulSoup(response.text, 'lxml')\n",
    "        d = (soup.find_all('span',{\"class\":\"number\"})[0])\n",
    "        d = d.get_text()\n",
    "        d = d.replace(',','')\n",
    "        m_cap[i] = d   \n",
    "    got_mcap = m_cap\n",
    "    not_got_mcap = not_happened2\n",
    "\n",
    "    print()\n",
    "    return [m_cap,not_happened2]\n",
    " \n",
    " \n",
    "if __name__ ==\"__main__\":\n",
    "    # creating thread\n",
    "    t1 = threading.Thread(target=promoter_holding, args=(y,))\n",
    "    t2 = threading.Thread(target=realpriceupdate, args=(y,))\n",
    "    t3 = threading.Thread(target=marketcap, args=(y,))\n",
    "\n",
    "    # starting thread 1\n",
    "    t1.start()\n",
    "    # starting thread 2\n",
    "    t2.start()\n",
    "    \n",
    "    t3.start()\n",
    " \n",
    "    # wait until thread 1 is completely executed\n",
    "    a = t1.join()\n",
    "    # wait until thread 2 is completely executed\n",
    "    b = t2.join()\n",
    "    \n",
    "    c = t3.join()\n",
    "\n",
    "#     print(a)\n",
    "#     print(b)\n",
    "\n",
    "    # print_cube(10)\n",
    "    # print_square(10)\n",
    "    print('_'*30,'\\n')\n",
    "    print(got1,'\\n')\n",
    "    print(not_got1,'\\n')\n",
    "    print('_'*30,'\\n')\n",
    "    print(got,'\\n')\n",
    "    print(not_got,'\\n')    \n",
    "    print('_'*30,'\\n')\n",
    "    print(got_mcap,'\\n')\n",
    "    print(not_got_mcap,'\\n')\n",
    "    print(time.time() - start_time)"
   ]
  },
  {
   "cell_type": "markdown",
   "id": "63eb6b8d",
   "metadata": {},
   "source": [
    "---\n",
    "**Promoter Holding Calculation**"
   ]
  },
  {
   "cell_type": "code",
   "execution_count": 224,
   "id": "f08f6e92",
   "metadata": {},
   "outputs": [],
   "source": [
    "z1 = pd.DataFrame.from_dict([got1])\n",
    "z1 = z1.T.reset_index()\n",
    "z1.columns = ['SYMBOL','PROMOTER_HOLDING']\n",
    "z1['PROMOTER_HOLDING'] = (z1['PROMOTER_HOLDING'].astype(str).str.strip(\"'[]'\")).astype('float')"
   ]
  },
  {
   "cell_type": "code",
   "execution_count": 225,
   "id": "66174770",
   "metadata": {},
   "outputs": [
    {
     "name": "stdout",
     "output_type": "stream",
     "text": [
      "(90, 2)\n"
     ]
    },
    {
     "data": {
      "text/html": [
       "<div>\n",
       "<style scoped>\n",
       "    .dataframe tbody tr th:only-of-type {\n",
       "        vertical-align: middle;\n",
       "    }\n",
       "\n",
       "    .dataframe tbody tr th {\n",
       "        vertical-align: top;\n",
       "    }\n",
       "\n",
       "    .dataframe thead th {\n",
       "        text-align: right;\n",
       "    }\n",
       "</style>\n",
       "<table border=\"1\" class=\"dataframe\">\n",
       "  <thead>\n",
       "    <tr style=\"text-align: right;\">\n",
       "      <th></th>\n",
       "      <th>SYMBOL</th>\n",
       "      <th>PROMOTER_HOLDING</th>\n",
       "    </tr>\n",
       "  </thead>\n",
       "  <tbody>\n",
       "    <tr>\n",
       "      <th>0</th>\n",
       "      <td>ADANIENT</td>\n",
       "      <td>72.63</td>\n",
       "    </tr>\n",
       "    <tr>\n",
       "      <th>1</th>\n",
       "      <td>ADANIGREEN</td>\n",
       "      <td>60.75</td>\n",
       "    </tr>\n",
       "    <tr>\n",
       "      <th>2</th>\n",
       "      <td>ADANIPORTS</td>\n",
       "      <td>66.02</td>\n",
       "    </tr>\n",
       "    <tr>\n",
       "      <th>3</th>\n",
       "      <td>ADANITRANS</td>\n",
       "      <td>73.87</td>\n",
       "    </tr>\n",
       "    <tr>\n",
       "      <th>4</th>\n",
       "      <td>AIROLAM</td>\n",
       "      <td>52.33</td>\n",
       "    </tr>\n",
       "  </tbody>\n",
       "</table>\n",
       "</div>"
      ],
      "text/plain": [
       "       SYMBOL  PROMOTER_HOLDING\n",
       "0    ADANIENT             72.63\n",
       "1  ADANIGREEN             60.75\n",
       "2  ADANIPORTS             66.02\n",
       "3  ADANITRANS             73.87\n",
       "4     AIROLAM             52.33"
      ]
     },
     "execution_count": 225,
     "metadata": {},
     "output_type": "execute_result"
    }
   ],
   "source": [
    "print(z1.shape)\n",
    "z1.head()"
   ]
  },
  {
   "cell_type": "markdown",
   "id": "e9a0afc1",
   "metadata": {},
   "source": [
    "---\n",
    "**__Current Price Calculation__**"
   ]
  },
  {
   "cell_type": "code",
   "execution_count": 226,
   "id": "f9d21b0d",
   "metadata": {},
   "outputs": [],
   "source": [
    "z = pd.DataFrame.from_dict([got])\n",
    "z = z.T.reset_index()\n",
    "z.columns = ['SYMBOL','CURRENT_PRICE']\n",
    "z['CURRENT_PRICE'] = z['CURRENT_PRICE'].str.replace(',','')\n",
    "z['CURRENT_PRICE'] = z['CURRENT_PRICE'].astype('float')"
   ]
  },
  {
   "cell_type": "code",
   "execution_count": 227,
   "id": "3c91d4da",
   "metadata": {
    "scrolled": true
   },
   "outputs": [
    {
     "name": "stdout",
     "output_type": "stream",
     "text": [
      "(91, 2)\n"
     ]
    },
    {
     "data": {
      "text/html": [
       "<div>\n",
       "<style scoped>\n",
       "    .dataframe tbody tr th:only-of-type {\n",
       "        vertical-align: middle;\n",
       "    }\n",
       "\n",
       "    .dataframe tbody tr th {\n",
       "        vertical-align: top;\n",
       "    }\n",
       "\n",
       "    .dataframe thead th {\n",
       "        text-align: right;\n",
       "    }\n",
       "</style>\n",
       "<table border=\"1\" class=\"dataframe\">\n",
       "  <thead>\n",
       "    <tr style=\"text-align: right;\">\n",
       "      <th></th>\n",
       "      <th>SYMBOL</th>\n",
       "      <th>CURRENT_PRICE</th>\n",
       "    </tr>\n",
       "  </thead>\n",
       "  <tbody>\n",
       "    <tr>\n",
       "      <th>0</th>\n",
       "      <td>ADANIENT</td>\n",
       "      <td>3833.0</td>\n",
       "    </tr>\n",
       "    <tr>\n",
       "      <th>1</th>\n",
       "      <td>ADANIGREEN</td>\n",
       "      <td>2121.0</td>\n",
       "    </tr>\n",
       "    <tr>\n",
       "      <th>2</th>\n",
       "      <td>ADANIPORTS</td>\n",
       "      <td>863.0</td>\n",
       "    </tr>\n",
       "    <tr>\n",
       "      <th>3</th>\n",
       "      <td>ADANITRANS</td>\n",
       "      <td>3319.0</td>\n",
       "    </tr>\n",
       "    <tr>\n",
       "      <th>4</th>\n",
       "      <td>AIROLAM</td>\n",
       "      <td>106.0</td>\n",
       "    </tr>\n",
       "  </tbody>\n",
       "</table>\n",
       "</div>"
      ],
      "text/plain": [
       "       SYMBOL  CURRENT_PRICE\n",
       "0    ADANIENT         3833.0\n",
       "1  ADANIGREEN         2121.0\n",
       "2  ADANIPORTS          863.0\n",
       "3  ADANITRANS         3319.0\n",
       "4     AIROLAM          106.0"
      ]
     },
     "execution_count": 227,
     "metadata": {},
     "output_type": "execute_result"
    }
   ],
   "source": [
    "print(z.shape)\n",
    "z.head()"
   ]
  },
  {
   "cell_type": "markdown",
   "id": "d8dc947d",
   "metadata": {},
   "source": [
    "---\n",
    "**Market Cap Calculaton**"
   ]
  },
  {
   "cell_type": "code",
   "execution_count": 228,
   "id": "a9a4fd73",
   "metadata": {},
   "outputs": [],
   "source": [
    "z3 = pd.DataFrame.from_dict([got_mcap])\n",
    "z3 = z3.T.reset_index()\n",
    "z3.columns = ['SYMBOL','MARKET_CAP']\n",
    "z3['MARKET_CAP'] = (z3['MARKET_CAP'].astype('float'))"
   ]
  },
  {
   "cell_type": "code",
   "execution_count": 229,
   "id": "dbd195a0",
   "metadata": {},
   "outputs": [
    {
     "name": "stdout",
     "output_type": "stream",
     "text": [
      "(91, 2)\n"
     ]
    },
    {
     "data": {
      "text/html": [
       "<div>\n",
       "<style scoped>\n",
       "    .dataframe tbody tr th:only-of-type {\n",
       "        vertical-align: middle;\n",
       "    }\n",
       "\n",
       "    .dataframe tbody tr th {\n",
       "        vertical-align: top;\n",
       "    }\n",
       "\n",
       "    .dataframe thead th {\n",
       "        text-align: right;\n",
       "    }\n",
       "</style>\n",
       "<table border=\"1\" class=\"dataframe\">\n",
       "  <thead>\n",
       "    <tr style=\"text-align: right;\">\n",
       "      <th></th>\n",
       "      <th>SYMBOL</th>\n",
       "      <th>MARKET_CAP</th>\n",
       "    </tr>\n",
       "  </thead>\n",
       "  <tbody>\n",
       "    <tr>\n",
       "      <th>0</th>\n",
       "      <td>ADANIENT</td>\n",
       "      <td>436991.0</td>\n",
       "    </tr>\n",
       "    <tr>\n",
       "      <th>1</th>\n",
       "      <td>ADANIGREEN</td>\n",
       "      <td>336013.0</td>\n",
       "    </tr>\n",
       "    <tr>\n",
       "      <th>2</th>\n",
       "      <td>ADANIPORTS</td>\n",
       "      <td>186398.0</td>\n",
       "    </tr>\n",
       "    <tr>\n",
       "      <th>3</th>\n",
       "      <td>ADANITRANS</td>\n",
       "      <td>370282.0</td>\n",
       "    </tr>\n",
       "    <tr>\n",
       "      <th>4</th>\n",
       "      <td>AIROLAM</td>\n",
       "      <td>159.0</td>\n",
       "    </tr>\n",
       "  </tbody>\n",
       "</table>\n",
       "</div>"
      ],
      "text/plain": [
       "       SYMBOL  MARKET_CAP\n",
       "0    ADANIENT    436991.0\n",
       "1  ADANIGREEN    336013.0\n",
       "2  ADANIPORTS    186398.0\n",
       "3  ADANITRANS    370282.0\n",
       "4     AIROLAM       159.0"
      ]
     },
     "execution_count": 229,
     "metadata": {},
     "output_type": "execute_result"
    }
   ],
   "source": [
    "print(z3.shape)\n",
    "z3.head()"
   ]
  },
  {
   "cell_type": "code",
   "execution_count": 230,
   "id": "cfc71057",
   "metadata": {},
   "outputs": [],
   "source": [
    "main_df = main_df.merge(z,on='SYMBOL')\n",
    "main_df = main_df.merge(z1,on='SYMBOL')\n",
    "main_df = main_df.merge(z3,on='SYMBOL')"
   ]
  },
  {
   "cell_type": "code",
   "execution_count": 231,
   "id": "52e12971",
   "metadata": {},
   "outputs": [
    {
     "data": {
      "text/html": [
       "<div>\n",
       "<style scoped>\n",
       "    .dataframe tbody tr th:only-of-type {\n",
       "        vertical-align: middle;\n",
       "    }\n",
       "\n",
       "    .dataframe tbody tr th {\n",
       "        vertical-align: top;\n",
       "    }\n",
       "\n",
       "    .dataframe thead th {\n",
       "        text-align: right;\n",
       "    }\n",
       "</style>\n",
       "<table border=\"1\" class=\"dataframe\">\n",
       "  <thead>\n",
       "    <tr style=\"text-align: right;\">\n",
       "      <th></th>\n",
       "      <th>SYMBOL</th>\n",
       "      <th>AVGPRICE_PERSHARE</th>\n",
       "      <th>HIGH</th>\n",
       "      <th>LOW</th>\n",
       "      <th>%_SHAREHOLDING_PRIOR</th>\n",
       "      <th>%_SHAREHOLDING_POST</th>\n",
       "      <th>VALUE_OF_SECURITY_ACQUIRED</th>\n",
       "      <th>NO_OF_SECURITIES_ACQUIRED</th>\n",
       "      <th>%_BUY</th>\n",
       "      <th>CURRENT_PRICE</th>\n",
       "      <th>PROMOTER_HOLDING</th>\n",
       "      <th>MARKET_CAP</th>\n",
       "    </tr>\n",
       "  </thead>\n",
       "  <tbody>\n",
       "    <tr>\n",
       "      <th>0</th>\n",
       "      <td>ADANIENT</td>\n",
       "      <td>3655.385437</td>\n",
       "      <td>3851.91</td>\n",
       "      <td>3464.09</td>\n",
       "      <td>0.32</td>\n",
       "      <td>0.35</td>\n",
       "      <td>1.278702e+10</td>\n",
       "      <td>3486140.0</td>\n",
       "      <td>0.03</td>\n",
       "      <td>3833.0</td>\n",
       "      <td>72.63</td>\n",
       "      <td>436991.0</td>\n",
       "    </tr>\n",
       "    <tr>\n",
       "      <th>1</th>\n",
       "      <td>ADANIGREEN</td>\n",
       "      <td>2346.793446</td>\n",
       "      <td>2424.44</td>\n",
       "      <td>2223.14</td>\n",
       "      <td>0.22</td>\n",
       "      <td>0.25</td>\n",
       "      <td>9.351393e+09</td>\n",
       "      <td>4000100.0</td>\n",
       "      <td>0.03</td>\n",
       "      <td>2121.0</td>\n",
       "      <td>60.75</td>\n",
       "      <td>336013.0</td>\n",
       "    </tr>\n",
       "    <tr>\n",
       "      <th>2</th>\n",
       "      <td>ADANIPORTS</td>\n",
       "      <td>829.340000</td>\n",
       "      <td>829.34</td>\n",
       "      <td>829.34</td>\n",
       "      <td>0.00</td>\n",
       "      <td>0.00</td>\n",
       "      <td>8.293400e+04</td>\n",
       "      <td>100.0</td>\n",
       "      <td>0.00</td>\n",
       "      <td>863.0</td>\n",
       "      <td>66.02</td>\n",
       "      <td>186398.0</td>\n",
       "    </tr>\n",
       "    <tr>\n",
       "      <th>3</th>\n",
       "      <td>ADANITRANS</td>\n",
       "      <td>3565.280000</td>\n",
       "      <td>3565.28</td>\n",
       "      <td>3565.28</td>\n",
       "      <td>0.00</td>\n",
       "      <td>0.00</td>\n",
       "      <td>3.565280e+05</td>\n",
       "      <td>100.0</td>\n",
       "      <td>0.00</td>\n",
       "      <td>3319.0</td>\n",
       "      <td>73.87</td>\n",
       "      <td>370282.0</td>\n",
       "    </tr>\n",
       "    <tr>\n",
       "      <th>4</th>\n",
       "      <td>AIROLAM</td>\n",
       "      <td>73.250476</td>\n",
       "      <td>73.25</td>\n",
       "      <td>73.25</td>\n",
       "      <td>7.68</td>\n",
       "      <td>0.01</td>\n",
       "      <td>7.691300e+04</td>\n",
       "      <td>1050.0</td>\n",
       "      <td>-7.67</td>\n",
       "      <td>106.0</td>\n",
       "      <td>52.33</td>\n",
       "      <td>159.0</td>\n",
       "    </tr>\n",
       "  </tbody>\n",
       "</table>\n",
       "</div>"
      ],
      "text/plain": [
       "       SYMBOL  AVGPRICE_PERSHARE     HIGH      LOW  %_SHAREHOLDING_PRIOR  \\\n",
       "0    ADANIENT        3655.385437  3851.91  3464.09                  0.32   \n",
       "1  ADANIGREEN        2346.793446  2424.44  2223.14                  0.22   \n",
       "2  ADANIPORTS         829.340000   829.34   829.34                  0.00   \n",
       "3  ADANITRANS        3565.280000  3565.28  3565.28                  0.00   \n",
       "4     AIROLAM          73.250476    73.25    73.25                  7.68   \n",
       "\n",
       "   %_SHAREHOLDING_POST  VALUE_OF_SECURITY_ACQUIRED  NO_OF_SECURITIES_ACQUIRED  \\\n",
       "0                 0.35                1.278702e+10                  3486140.0   \n",
       "1                 0.25                9.351393e+09                  4000100.0   \n",
       "2                 0.00                8.293400e+04                      100.0   \n",
       "3                 0.00                3.565280e+05                      100.0   \n",
       "4                 0.01                7.691300e+04                     1050.0   \n",
       "\n",
       "   %_BUY  CURRENT_PRICE  PROMOTER_HOLDING  MARKET_CAP  \n",
       "0   0.03         3833.0             72.63    436991.0  \n",
       "1   0.03         2121.0             60.75    336013.0  \n",
       "2   0.00          863.0             66.02    186398.0  \n",
       "3   0.00         3319.0             73.87    370282.0  \n",
       "4  -7.67          106.0             52.33       159.0  "
      ]
     },
     "execution_count": 231,
     "metadata": {},
     "output_type": "execute_result"
    }
   ],
   "source": [
    "main_df.head()"
   ]
  },
  {
   "cell_type": "markdown",
   "id": "e29eb662",
   "metadata": {},
   "source": [
    "### ***DATA   CLEANED !!!***\n",
    "---"
   ]
  },
  {
   "cell_type": "code",
   "execution_count": 232,
   "id": "dd5f590a",
   "metadata": {},
   "outputs": [],
   "source": [
    "index = np.where(main_df.VALUE_OF_SECURITY_ACQUIRED >10000000)\n",
    "data = main_df.iloc[index]\n",
    "index1 = np.where(data.PROMOTER_HOLDING > 40)\n",
    "data = data.iloc[index1]\n",
    "index3 = np.where(data.MARKET_CAP > 1000)\n",
    "data = data.iloc[index3]"
   ]
  },
  {
   "cell_type": "code",
   "execution_count": 233,
   "id": "17601a3d",
   "metadata": {},
   "outputs": [
    {
     "name": "stdout",
     "output_type": "stream",
     "text": [
      "(36, 12)\n"
     ]
    },
    {
     "data": {
      "text/html": [
       "<div>\n",
       "<style scoped>\n",
       "    .dataframe tbody tr th:only-of-type {\n",
       "        vertical-align: middle;\n",
       "    }\n",
       "\n",
       "    .dataframe tbody tr th {\n",
       "        vertical-align: top;\n",
       "    }\n",
       "\n",
       "    .dataframe thead th {\n",
       "        text-align: right;\n",
       "    }\n",
       "</style>\n",
       "<table border=\"1\" class=\"dataframe\">\n",
       "  <thead>\n",
       "    <tr style=\"text-align: right;\">\n",
       "      <th></th>\n",
       "      <th>SYMBOL</th>\n",
       "      <th>AVGPRICE_PERSHARE</th>\n",
       "      <th>HIGH</th>\n",
       "      <th>LOW</th>\n",
       "      <th>%_SHAREHOLDING_PRIOR</th>\n",
       "      <th>%_SHAREHOLDING_POST</th>\n",
       "      <th>VALUE_OF_SECURITY_ACQUIRED</th>\n",
       "      <th>NO_OF_SECURITIES_ACQUIRED</th>\n",
       "      <th>%_BUY</th>\n",
       "      <th>CURRENT_PRICE</th>\n",
       "      <th>PROMOTER_HOLDING</th>\n",
       "      <th>MARKET_CAP</th>\n",
       "    </tr>\n",
       "  </thead>\n",
       "  <tbody>\n",
       "    <tr>\n",
       "      <th>0</th>\n",
       "      <td>ADANIENT</td>\n",
       "      <td>3655.385437</td>\n",
       "      <td>3851.91</td>\n",
       "      <td>3464.09</td>\n",
       "      <td>0.32</td>\n",
       "      <td>0.35</td>\n",
       "      <td>1.278702e+10</td>\n",
       "      <td>3486140.0</td>\n",
       "      <td>0.03</td>\n",
       "      <td>3833.0</td>\n",
       "      <td>72.63</td>\n",
       "      <td>436991.0</td>\n",
       "    </tr>\n",
       "    <tr>\n",
       "      <th>1</th>\n",
       "      <td>ADANIGREEN</td>\n",
       "      <td>2346.793446</td>\n",
       "      <td>2424.44</td>\n",
       "      <td>2223.14</td>\n",
       "      <td>0.22</td>\n",
       "      <td>0.25</td>\n",
       "      <td>9.351393e+09</td>\n",
       "      <td>4000100.0</td>\n",
       "      <td>0.03</td>\n",
       "      <td>2121.0</td>\n",
       "      <td>60.75</td>\n",
       "      <td>336013.0</td>\n",
       "    </tr>\n",
       "    <tr>\n",
       "      <th>6</th>\n",
       "      <td>ANANTRAJ</td>\n",
       "      <td>85.835817</td>\n",
       "      <td>88.98</td>\n",
       "      <td>82.61</td>\n",
       "      <td>0.01</td>\n",
       "      <td>0.02</td>\n",
       "      <td>1.411685e+07</td>\n",
       "      <td>165000.0</td>\n",
       "      <td>0.01</td>\n",
       "      <td>115.0</td>\n",
       "      <td>63.03</td>\n",
       "      <td>3722.0</td>\n",
       "    </tr>\n",
       "    <tr>\n",
       "      <th>9</th>\n",
       "      <td>ASAHIINDIA</td>\n",
       "      <td>561.859993</td>\n",
       "      <td>561.86</td>\n",
       "      <td>561.86</td>\n",
       "      <td>5.64</td>\n",
       "      <td>5.67</td>\n",
       "      <td>4.077306e+07</td>\n",
       "      <td>72568.0</td>\n",
       "      <td>0.03</td>\n",
       "      <td>618.0</td>\n",
       "      <td>54.24</td>\n",
       "      <td>15011.0</td>\n",
       "    </tr>\n",
       "    <tr>\n",
       "      <th>10</th>\n",
       "      <td>ASTEC</td>\n",
       "      <td>1896.964998</td>\n",
       "      <td>1899.47</td>\n",
       "      <td>1894.46</td>\n",
       "      <td>64.54</td>\n",
       "      <td>64.80</td>\n",
       "      <td>1.897650e+08</td>\n",
       "      <td>100036.0</td>\n",
       "      <td>0.26</td>\n",
       "      <td>2174.0</td>\n",
       "      <td>66.77</td>\n",
       "      <td>4262.0</td>\n",
       "    </tr>\n",
       "  </tbody>\n",
       "</table>\n",
       "</div>"
      ],
      "text/plain": [
       "        SYMBOL  AVGPRICE_PERSHARE     HIGH      LOW  %_SHAREHOLDING_PRIOR  \\\n",
       "0     ADANIENT        3655.385437  3851.91  3464.09                  0.32   \n",
       "1   ADANIGREEN        2346.793446  2424.44  2223.14                  0.22   \n",
       "6     ANANTRAJ          85.835817    88.98    82.61                  0.01   \n",
       "9   ASAHIINDIA         561.859993   561.86   561.86                  5.64   \n",
       "10       ASTEC        1896.964998  1899.47  1894.46                 64.54   \n",
       "\n",
       "    %_SHAREHOLDING_POST  VALUE_OF_SECURITY_ACQUIRED  \\\n",
       "0                  0.35                1.278702e+10   \n",
       "1                  0.25                9.351393e+09   \n",
       "6                  0.02                1.411685e+07   \n",
       "9                  5.67                4.077306e+07   \n",
       "10                64.80                1.897650e+08   \n",
       "\n",
       "    NO_OF_SECURITIES_ACQUIRED  %_BUY  CURRENT_PRICE  PROMOTER_HOLDING  \\\n",
       "0                   3486140.0   0.03         3833.0             72.63   \n",
       "1                   4000100.0   0.03         2121.0             60.75   \n",
       "6                    165000.0   0.01          115.0             63.03   \n",
       "9                     72568.0   0.03          618.0             54.24   \n",
       "10                   100036.0   0.26         2174.0             66.77   \n",
       "\n",
       "    MARKET_CAP  \n",
       "0     436991.0  \n",
       "1     336013.0  \n",
       "6       3722.0  \n",
       "9      15011.0  \n",
       "10      4262.0  "
      ]
     },
     "execution_count": 233,
     "metadata": {},
     "output_type": "execute_result"
    }
   ],
   "source": [
    "print(data.shape)\n",
    "data.head()"
   ]
  },
  {
   "cell_type": "markdown",
   "id": "8a388d61",
   "metadata": {},
   "source": [
    "---"
   ]
  },
  {
   "cell_type": "code",
   "execution_count": 234,
   "id": "b96998f1",
   "metadata": {},
   "outputs": [
    {
     "name": "stdout",
     "output_type": "stream",
     "text": [
      "(90, 12)\n"
     ]
    },
    {
     "data": {
      "text/html": [
       "<div>\n",
       "<style scoped>\n",
       "    .dataframe tbody tr th:only-of-type {\n",
       "        vertical-align: middle;\n",
       "    }\n",
       "\n",
       "    .dataframe tbody tr th {\n",
       "        vertical-align: top;\n",
       "    }\n",
       "\n",
       "    .dataframe thead th {\n",
       "        text-align: right;\n",
       "    }\n",
       "</style>\n",
       "<table border=\"1\" class=\"dataframe\">\n",
       "  <thead>\n",
       "    <tr style=\"text-align: right;\">\n",
       "      <th></th>\n",
       "      <th>SYMBOL</th>\n",
       "      <th>AVGPRICE_PERSHARE</th>\n",
       "      <th>HIGH</th>\n",
       "      <th>LOW</th>\n",
       "      <th>%_SHAREHOLDING_PRIOR</th>\n",
       "      <th>%_SHAREHOLDING_POST</th>\n",
       "      <th>VALUE_OF_SECURITY_ACQUIRED</th>\n",
       "      <th>NO_OF_SECURITIES_ACQUIRED</th>\n",
       "      <th>%_BUY</th>\n",
       "      <th>CURRENT_PRICE</th>\n",
       "      <th>PROMOTER_HOLDING</th>\n",
       "      <th>MARKET_CAP</th>\n",
       "    </tr>\n",
       "  </thead>\n",
       "  <tbody>\n",
       "    <tr>\n",
       "      <th>0</th>\n",
       "      <td>ADANIENT</td>\n",
       "      <td>3655.385437</td>\n",
       "      <td>3851.91</td>\n",
       "      <td>3464.09</td>\n",
       "      <td>0.32</td>\n",
       "      <td>0.35</td>\n",
       "      <td>1.278702e+10</td>\n",
       "      <td>3486140.0</td>\n",
       "      <td>0.03</td>\n",
       "      <td>3833.0</td>\n",
       "      <td>72.63</td>\n",
       "      <td>436991.0</td>\n",
       "    </tr>\n",
       "    <tr>\n",
       "      <th>1</th>\n",
       "      <td>ADANIGREEN</td>\n",
       "      <td>2346.793446</td>\n",
       "      <td>2424.44</td>\n",
       "      <td>2223.14</td>\n",
       "      <td>0.22</td>\n",
       "      <td>0.25</td>\n",
       "      <td>9.351393e+09</td>\n",
       "      <td>4000100.0</td>\n",
       "      <td>0.03</td>\n",
       "      <td>2121.0</td>\n",
       "      <td>60.75</td>\n",
       "      <td>336013.0</td>\n",
       "    </tr>\n",
       "    <tr>\n",
       "      <th>2</th>\n",
       "      <td>ADANIPORTS</td>\n",
       "      <td>829.340000</td>\n",
       "      <td>829.34</td>\n",
       "      <td>829.34</td>\n",
       "      <td>0.00</td>\n",
       "      <td>0.00</td>\n",
       "      <td>8.293400e+04</td>\n",
       "      <td>100.0</td>\n",
       "      <td>0.00</td>\n",
       "      <td>863.0</td>\n",
       "      <td>66.02</td>\n",
       "      <td>186398.0</td>\n",
       "    </tr>\n",
       "    <tr>\n",
       "      <th>3</th>\n",
       "      <td>ADANITRANS</td>\n",
       "      <td>3565.280000</td>\n",
       "      <td>3565.28</td>\n",
       "      <td>3565.28</td>\n",
       "      <td>0.00</td>\n",
       "      <td>0.00</td>\n",
       "      <td>3.565280e+05</td>\n",
       "      <td>100.0</td>\n",
       "      <td>0.00</td>\n",
       "      <td>3319.0</td>\n",
       "      <td>73.87</td>\n",
       "      <td>370282.0</td>\n",
       "    </tr>\n",
       "    <tr>\n",
       "      <th>4</th>\n",
       "      <td>AIROLAM</td>\n",
       "      <td>73.250476</td>\n",
       "      <td>73.25</td>\n",
       "      <td>73.25</td>\n",
       "      <td>7.68</td>\n",
       "      <td>0.01</td>\n",
       "      <td>7.691300e+04</td>\n",
       "      <td>1050.0</td>\n",
       "      <td>-7.67</td>\n",
       "      <td>106.0</td>\n",
       "      <td>52.33</td>\n",
       "      <td>159.0</td>\n",
       "    </tr>\n",
       "  </tbody>\n",
       "</table>\n",
       "</div>"
      ],
      "text/plain": [
       "       SYMBOL  AVGPRICE_PERSHARE     HIGH      LOW  %_SHAREHOLDING_PRIOR  \\\n",
       "0    ADANIENT        3655.385437  3851.91  3464.09                  0.32   \n",
       "1  ADANIGREEN        2346.793446  2424.44  2223.14                  0.22   \n",
       "2  ADANIPORTS         829.340000   829.34   829.34                  0.00   \n",
       "3  ADANITRANS        3565.280000  3565.28  3565.28                  0.00   \n",
       "4     AIROLAM          73.250476    73.25    73.25                  7.68   \n",
       "\n",
       "   %_SHAREHOLDING_POST  VALUE_OF_SECURITY_ACQUIRED  NO_OF_SECURITIES_ACQUIRED  \\\n",
       "0                 0.35                1.278702e+10                  3486140.0   \n",
       "1                 0.25                9.351393e+09                  4000100.0   \n",
       "2                 0.00                8.293400e+04                      100.0   \n",
       "3                 0.00                3.565280e+05                      100.0   \n",
       "4                 0.01                7.691300e+04                     1050.0   \n",
       "\n",
       "   %_BUY  CURRENT_PRICE  PROMOTER_HOLDING  MARKET_CAP  \n",
       "0   0.03         3833.0             72.63    436991.0  \n",
       "1   0.03         2121.0             60.75    336013.0  \n",
       "2   0.00          863.0             66.02    186398.0  \n",
       "3   0.00         3319.0             73.87    370282.0  \n",
       "4  -7.67          106.0             52.33       159.0  "
      ]
     },
     "execution_count": 234,
     "metadata": {},
     "output_type": "execute_result"
    }
   ],
   "source": [
    "print(main_df.shape)\n",
    "main_df.head()"
   ]
  },
  {
   "cell_type": "code",
   "execution_count": 235,
   "id": "3dc715eb",
   "metadata": {},
   "outputs": [],
   "source": [
    "path = r'C:\\Users\\user\\Desktop\\Stocks_Automated\\Cleaned_Data.csv'\n",
    "path1 = r'C:\\Users\\user\\Desktop\\Stocks_Automated\\Full_Data.csv'\n",
    "# path2 = r'C:\\Users\\user\\Desktop\\Stocks_Automated\\PRMTRHLDN_ABV40_ALL_18OCT.csv'\n",
    "# path3 = r'C:\\Users\\user\\Desktop\\Stocks_Automated\\ABOVE2CR_18OCT.csv'"
   ]
  },
  {
   "cell_type": "code",
   "execution_count": 250,
   "id": "dd046bc0",
   "metadata": {},
   "outputs": [],
   "source": [
    "data.to_csv(path,index=False)\n",
    "main_df.to_csv(path1,index=False)\n",
    "# prmtrhldng_abv40_all.to_csv(path2)"
   ]
  },
  {
   "cell_type": "markdown",
   "id": "c804993f",
   "metadata": {},
   "source": [
    "# ENDS"
   ]
  },
  {
   "cell_type": "markdown",
   "id": "52bea5c4",
   "metadata": {},
   "source": [
    "---\n",
    "### ROUGH BELOW..."
   ]
  },
  {
   "cell_type": "code",
   "execution_count": 237,
   "id": "50da3d31",
   "metadata": {
    "code_folding": [
     0
    ]
   },
   "outputs": [],
   "source": [
    "# def marketcap():\n",
    "    "
   ]
  },
  {
   "cell_type": "code",
   "execution_count": 238,
   "id": "ff80a7e5",
   "metadata": {
    "code_folding": [
     0
    ]
   },
   "outputs": [],
   "source": [
    "# def promoter_holding(y):\n",
    "#     global got1,not_got1\n",
    "    \n",
    "#     price1 = {}\n",
    "#     not_happened1 = []\n",
    "    \n",
    "#     for i in y:\n",
    "#         stockcode = str(i)\n",
    "        \n",
    "#         stock_url  = f\"https://ticker.finology.in/company/{stockcode}\"\n",
    "#         response = requests.get(stock_url)\n",
    "#         time.sleep(2)\n",
    "#         soup = BeautifulSoup(response.text, 'lxml')\n",
    "#         if len(re.findall(r'\\d+.\\d*', soup.find_all('p')[15].text[1:])) > 0:\n",
    "#             price1[i] = re.findall(r'\\d+.\\d*', soup.find_all('p')[15].text[1:])\n",
    "#         else:\n",
    "#             not_happened1.append(i)   \n",
    "#     got1=price1\n",
    "#     not_got1 = not_happened1\n",
    "\n",
    "\n",
    "#     return [price1,not_happened1]"
   ]
  },
  {
   "cell_type": "code",
   "execution_count": 239,
   "id": "24da7f0a",
   "metadata": {
    "code_folding": [
     0
    ]
   },
   "outputs": [],
   "source": [
    "# def promoter_holding(y):\n",
    "#     global got1,not_got1\n",
    "    \n",
    "#     m_cap = {}\n",
    "#     not_happened2 = []\n",
    "    \n",
    "#     for i in y:\n",
    "#         stockcode = str(i)\n",
    "#         stock_url  = f\"https://www.screener.in/company/{stockcode}/\"\n",
    "#         response = requests.get(stock_url)\n",
    "#         time.sleep(2)\n",
    "#         soup = BeautifulSoup(response.text, 'lxml')\n",
    "#         if len(soup.find_all('span',{\"class\":\"number\"})) > 0:\n",
    "#             m_cap[i] = (soup.find_all('span',{\"class\":\"number\"})[0].find('span').text[1:])\n",
    "#         else:\n",
    "#             not_happened.append(i)   \n",
    "#     got_mcap=m_cap\n",
    "#     not_got2 = not_happened2\n",
    "\n",
    "#     print()\n",
    "#     return [price1,not_happened2]"
   ]
  },
  {
   "cell_type": "code",
   "execution_count": 240,
   "id": "2cb7383e",
   "metadata": {
    "code_folding": []
   },
   "outputs": [],
   "source": [
    "# abv_1cr = main_df[main_df['VALUE_OF_SECURITY_ACQUIRED'] > 10000000]"
   ]
  },
  {
   "cell_type": "code",
   "execution_count": 241,
   "id": "e69f5e1b",
   "metadata": {
    "code_folding": []
   },
   "outputs": [],
   "source": [
    "# less_thn_prmtr_price = abv_1cr[abv_1cr['AVGPRICE_PERSHARE'] > abv_1cr['CURRENT_PRICE']]"
   ]
  },
  {
   "cell_type": "code",
   "execution_count": 242,
   "id": "81f40f95",
   "metadata": {
    "code_folding": [
     0
    ]
   },
   "outputs": [],
   "source": [
    "# prmtrhldng_abv40 = less_thn_prmtr_price[less_thn_prmtr_price['PROMOTER_HOLDING'] > 40]\n",
    "# prmtrhldng_abv40_all = abv_10cr[abv_10cr['PROMOTER_HOLDING'] > 40]\n",
    "\n",
    "# prmtrhldng_abv40.head()"
   ]
  },
  {
   "cell_type": "code",
   "execution_count": 243,
   "id": "cedaf192",
   "metadata": {
    "code_folding": [
     0
    ]
   },
   "outputs": [],
   "source": [
    "# def marketcap(y):\n",
    "#     global got_mcap,not_got_mcap\n",
    "    \n",
    "#     m_cap = {}\n",
    "#     not_happened2 = []\n",
    "    \n",
    "#     for i in y:\n",
    "#         stockcode = str(i)\n",
    "#         stock_url  = f\"https://www.screener.in/company/{stockcode}/\"\n",
    "#         response = requests.get(stock_url)\n",
    "#         time.sleep(2)\n",
    "#         soup = BeautifulSoup(response.text, 'lxml')\n",
    "#         d = (soup.find_all('span',{\"class\":\"number\"})[0])\n",
    "#         d = d.get_text()\n",
    "#         d = d.replace(',','')\n",
    "#         m_cap[i] = d   \n",
    "#     got_mcap = m_cap\n",
    "#     not_got_mcap = not_happened2\n",
    "\n",
    "#     print()\n",
    "#     return [m_cap,not_happened2]"
   ]
  },
  {
   "cell_type": "code",
   "execution_count": 244,
   "id": "169f5bec",
   "metadata": {
    "code_folding": [
     0
    ]
   },
   "outputs": [],
   "source": [
    "# z3 = pd.DataFrame.from_dict([got_mcap])\n",
    "# z3 = z3.T.reset_index()\n",
    "# z3.columns = ['SYMBOL','MARKET_CAP']\n",
    "# z3['MARKET_CAP'] = (z3['MARKET_CAP'].astype('float'))\n",
    "# z3"
   ]
  },
  {
   "cell_type": "code",
   "execution_count": 245,
   "id": "c1f75e3c",
   "metadata": {
    "code_folding": [
     0
    ]
   },
   "outputs": [],
   "source": [
    "# m_cap = {}\n",
    "# not_happened2 = []\n",
    "# for i in y:\n",
    "#     stockcode = str(i)\n",
    "#     stock_url  = f\"https://www.screener.in/company/{stockcode}/\"\n",
    "#     response = requests.get(stock_url)\n",
    "#     time.sleep(2)\n",
    "#     soup = BeautifulSoup(response.text, 'lxml')\n",
    "#     d = (soup.find_all('span',{\"class\":\"number\"})[0])\n",
    "#     d = d.get_text()\n",
    "#     d = d.replace(',','')\n",
    "#     m_cap[i] = d\n",
    "\n",
    "# print(m_cap)\n"
   ]
  },
  {
   "cell_type": "code",
   "execution_count": 246,
   "id": "142e064e",
   "metadata": {
    "code_folding": [
     0
    ]
   },
   "outputs": [],
   "source": [
    "# stockcode = str('ADANIENT')\n",
    "\n",
    "# stock_url  = f\"https://www.screener.in/company/{stockcode}/\"\n",
    "# response = requests.get(stock_url)\n",
    "# time.sleep(2)\n",
    "# soup = BeautifulSoup(response.text, 'lxml')\n",
    "# d = (soup.find_all('span',{\"class\":\"number\"})[0])\n",
    "# d = d.get_text()\n",
    "# d = d.replace(',','')\n",
    "# print(d)\n"
   ]
  },
  {
   "cell_type": "code",
   "execution_count": 247,
   "id": "4a030782",
   "metadata": {
    "code_folding": [
     0
    ]
   },
   "outputs": [],
   "source": [
    "# def realpriceupdate(y):\n",
    "#     global got,not_got\n",
    "    \n",
    "#     price = {}\n",
    "#     not_happened = []\n",
    "    \n",
    "#     for i in y:\n",
    "#         stockcode = str(i)\n",
    "#         stock_url  = f\"https://www.screener.in/company/{stockcode}/\"\n",
    "#         response = requests.get(stock_url)\n",
    "#         time.sleep(2)\n",
    "#         soup = BeautifulSoup(response.text, 'lxml')\n",
    "#         if len(soup.find_all('div',{\"class\":\"flex flex-align-center\"})) > 0:\n",
    "#             price[i] = (soup.find_all('div',{\"class\":\"flex flex-align-center\"})[0].find('span').text[1:])\n",
    "#         else:\n",
    "#             not_happened.append(i)      \n",
    "\n",
    "#     got = price\n",
    "#     not_got = not_happened\n",
    "            \n",
    "#     return [price,not_happened][1]"
   ]
  },
  {
   "cell_type": "code",
   "execution_count": 248,
   "id": "75a63f8c",
   "metadata": {
    "code_folding": [
     0
    ]
   },
   "outputs": [],
   "source": [
    "#\n",
    "# # Python program to illustrate the concept\n",
    "# # of threading\n",
    "# # importing the threading module\n",
    "# import threading\n",
    "# import time\n",
    "# import numpy as np \n",
    "# import pandas as pd \n",
    "# import requests\n",
    "# from bs4 import BeautifulSoup\n",
    "# import warnings\n",
    "# warnings.filterwarnings(\"ignore\")\n",
    "# import re\n",
    " \n",
    "# y = ['ADANIENT',\n",
    "#  'ADANIGREEN',\n",
    "#  'ADANIPORTS']\n",
    "# f1,f2,f3,f4 = [],[],[],[] \n",
    "\n",
    "# def promoter_holding(y):\n",
    "#     global f1,f2\n",
    "    \n",
    "#     price1 = {}\n",
    "#     not_happened1 = []\n",
    "    \n",
    "#     for i in y:\n",
    "#         stockcode = str(i)\n",
    "        \n",
    "#         stock_url  = f\"https://ticker.finology.in/company/{stockcode}\"\n",
    "#         response = requests.get(stock_url)\n",
    "#         time.sleep(2)\n",
    "#         soup = BeautifulSoup(response.text, 'lxml')\n",
    "#         if len(re.findall(r'\\d+.\\d*', soup.find_all('p')[15].text[1:])) > 0:\n",
    "#             price1[i] = re.findall(r'\\d+.\\d*', soup.find_all('p')[15].text[1:])\n",
    "#         else:\n",
    "#             not_happened1.append(i)   \n",
    "#     f1=price1\n",
    "#     f2 = not_happened1\n",
    "\n",
    "\n",
    "#     return [price1,not_happened1]\n",
    "\n",
    " \n",
    "\n",
    "# def realpriceupdate(y):\n",
    "#     global f3,f4\n",
    "    \n",
    "#     price = {}\n",
    "#     not_happened = []\n",
    "    \n",
    "#     for i in y:\n",
    "#         stockcode = str(i)\n",
    "#         stock_url  = f\"https://www.screener.in/company/{stockcode}/\"\n",
    "#         response = requests.get(stock_url)\n",
    "#         time.sleep(2)\n",
    "#         soup = BeautifulSoup(response.text, 'lxml')\n",
    "#         if len(soup.find_all('div',{\"class\":\"flex flex-align-center\"})) > 0:\n",
    "#             price[i] = (soup.find_all('div',{\"class\":\"flex flex-align-center\"})[0].find('span').text[1:])\n",
    "#         else:\n",
    "#             not_happened.append(i)      \n",
    "\n",
    "#     f3 = price\n",
    "#     f4 = not_happened\n",
    "            \n",
    "#     return [price,not_happened][1]\n",
    " \n",
    " \n",
    "# if __name__ ==\"__main__\":\n",
    "#     # creating thread\n",
    "#     t1 = threading.Thread(target=promoter_holding, args=(y,))\n",
    "#     t2 = threading.Thread(target=realpriceupdate, args=(y,))\n",
    "\n",
    "#     # starting thread 1\n",
    "#     t1.start()\n",
    "#     # starting thread 2\n",
    "#     t2.start()\n",
    " \n",
    "#     # wait until thread 1 is completely executed\n",
    "#     a = t1.join()\n",
    "#     # wait until thread 2 is completely executed\n",
    "#     b = t2.join()\n",
    "\n",
    "# #     print(a)\n",
    "# #     print(b)\n",
    "\n",
    "#     # print_cube(10)\n",
    "#     # print_square(10)\n",
    "#     print('_'*30)\n",
    "#     print(f1,'\\n')\n",
    "#     print(f2,'\\n')\n",
    "#     print('_'*30)\n",
    "#     print(f3,'\\n')\n",
    "#     print(f4,'\\n')"
   ]
  },
  {
   "cell_type": "code",
   "execution_count": 249,
   "id": "352d1c5f",
   "metadata": {},
   "outputs": [
    {
     "ename": "SyntaxError",
     "evalue": "invalid syntax (<ipython-input-249-3a2ff5745d61>, line 1)",
     "output_type": "error",
     "traceback": [
      "\u001b[1;36m  File \u001b[1;32m\"<ipython-input-249-3a2ff5745d61>\"\u001b[1;36m, line \u001b[1;32m1\u001b[0m\n\u001b[1;33m    ******PLEASE READ  BEFORE ACCEPTING*******      --->         FACING  ISSUE  IN  CALLING  MULTIPLE   FUNCTION AT A SAME TIME USING THREADING\u001b[0m\n\u001b[1;37m    ^\u001b[0m\n\u001b[1;31mSyntaxError\u001b[0m\u001b[1;31m:\u001b[0m invalid syntax\n"
     ]
    }
   ],
   "source": [
    "******PLEASE READ  BEFORE ACCEPTING*******      --->         FACING  ISSUE  IN  CALLING  MULTIPLE   FUNCTION AT A SAME TIME USING THREADING"
   ]
  },
  {
   "cell_type": "code",
   "execution_count": null,
   "id": "4808d8be",
   "metadata": {
    "code_folding": [
     0
    ]
   },
   "outputs": [],
   "source": [
    "# for i in z.CURRENT_PRICE:\n",
    "#     if ',' in i:\n",
    "#         z['new']= int(i.replace(',', ''))\n",
    "#     else:\n",
    "#         z['new']= float(i)\n",
    "        \n",
    "    \n",
    "# z.head()"
   ]
  },
  {
   "cell_type": "code",
   "execution_count": null,
   "id": "59803cd9",
   "metadata": {
    "code_folding": [
     0
    ]
   },
   "outputs": [],
   "source": [
    "# for i in (z.CURRENT_PRICE):\n",
    "#     print(i)\n",
    "# z\n",
    "    "
   ]
  },
  {
   "cell_type": "markdown",
   "id": "a6087700",
   "metadata": {},
   "source": [
    "## Rough Start"
   ]
  },
  {
   "cell_type": "code",
   "execution_count": null,
   "id": "9a28dc2f",
   "metadata": {
    "code_folding": [
     0
    ]
   },
   "outputs": [],
   "source": [
    "# import time \n",
    "\n",
    "# def promoter_holding(y):\n",
    "#     price1 = {}\n",
    "#     not_happened1 = []\n",
    "#     for i in y:\n",
    "#         stockcode = str(i)\n",
    "#         stock_url  = f\"https://ticker.finology.in/company/{stockcode}\"\n",
    "#         response = requests.get(stock_url)\n",
    "#         time.sleep(5)\n",
    "#         soup = BeautifulSoup(response.text, 'lxml')\n",
    "#         if len(re.findall(r'\\d+.\\d*', soup.find_all('p')[15].text[1:])) > 0:\n",
    "#             price1[i] = re.findall(r'\\d+.\\d*', soup.find_all('p')[15].text[1:])\n",
    "#         else:\n",
    "#             not_happened1.append(i)\n",
    "\n",
    "            \n",
    "            \n",
    "#     return(price1,not_happened1)"
   ]
  },
  {
   "cell_type": "code",
   "execution_count": null,
   "id": "0ecb9a14",
   "metadata": {
    "code_folding": [
     0
    ]
   },
   "outputs": [],
   "source": [
    "# import time \n",
    "\n",
    "# def realpriceupdate(y):\n",
    "#     price = {}\n",
    "#     not_happened = []\n",
    "#     for i in y:\n",
    "#         stockcode = str(i)\n",
    "#         stock_url  = f\"https://www.screener.in/company/{stockcode}/\"\n",
    "#         response = requests.get(stock_url)\n",
    "#         time.sleep(3)\n",
    "#         soup = BeautifulSoup(response.text, 'lxml')\n",
    "#         if len(soup.find_all('div',{\"class\":\"flex flex-align-center\"})) > 0:\n",
    "#             price[i] = (soup.find_all('div',{\"class\":\"flex flex-align-center\"})[0].find('span').text[1:])\n",
    "#         else:\n",
    "#             not_happened.append(i)\n",
    "\n",
    "            \n",
    "            \n",
    "#     return(price,not_happened)"
   ]
  },
  {
   "cell_type": "code",
   "execution_count": null,
   "id": "766ccaea",
   "metadata": {
    "code_folding": [
     0
    ]
   },
   "outputs": [],
   "source": [
    "# got,not_got = realpriceupdate(y)\n",
    "# got,not_got = t2.start(y)\n"
   ]
  },
  {
   "cell_type": "code",
   "execution_count": null,
   "id": "aa526bb2",
   "metadata": {
    "code_folding": [
     0,
     6,
     25
    ]
   },
   "outputs": [],
   "source": [
    "# # Python program to illustrate the concept\n",
    "# # of threading\n",
    "# # importing the threading module\n",
    "# import threading\n",
    "# import time\n",
    "\n",
    "# def promoter_holding(y):\n",
    "#     price1 = {}\n",
    "#     print(y)\n",
    "#     not_happened1 = []\n",
    "#     for i in y:\n",
    "#         stockcode = str(i)\n",
    "#         stock_url  = f\"https://ticker.finology.in/company/{stockcode}\"\n",
    "#         response = requests.get(stock_url)\n",
    "#         time.sleep(2)\n",
    "#         soup = BeautifulSoup(response.text, 'lxml')\n",
    "#         if len(re.findall(r'\\d+.\\d*', soup.find_all('p')[15].text[1:])) > 0:\n",
    "#             price1[i] = re.findall(r'\\d+.\\d*', soup.find_all('p')[15].text[1:])\n",
    "#         else:\n",
    "#             not_happened1.append(i)   \n",
    "            \n",
    "#     return(price1,not_happened1)\n",
    "\n",
    "\n",
    "\n",
    "# def realpriceupdate(y):\n",
    "#     price = {}\n",
    "    \n",
    "#     not_happened = []\n",
    "#     for i in y:\n",
    "#         stockcode = str(i)\n",
    "#         stock_url  = f\"https://www.screener.in/company/{stockcode}/\"\n",
    "#         response = requests.get(stock_url)\n",
    "#         time.sleep(2)\n",
    "#         soup = BeautifulSoup(response.text, 'lxml')\n",
    "#         if len(soup.find_all('div',{\"class\":\"flex flex-align-center\"})) > 0:\n",
    "#             price[i] = (soup.find_all('div',{\"class\":\"flex flex-align-center\"})[0].find('span').text[1:])\n",
    "#         else:\n",
    "#             not_happened.append(i)      \n",
    "            \n",
    "#     return(price,not_happened)\n",
    "\n",
    "\n",
    "\n",
    "# if __name__ == '__main__':\n",
    "\n",
    "# # creating thread\n",
    "#     t1 = threading.Thread(target=promoter_holding, args=(y,))\n",
    "#     t2 = threading.Thread(target=realpriceupdate, args=(y,))\n",
    "#     t1.start()\n",
    "#     t2.start()\n",
    "    \n",
    "# # starting thread 1\n",
    "# #     got1,not_got1 = t1.start()\n",
    "\n",
    "    \n",
    "    \n",
    "    \n",
    "# # t1.start()\n",
    "\n",
    "# # starting thread 2\n",
    "\n",
    "\n",
    "# #     got,not_got = t2.start()\n",
    "\n",
    "    \n",
    "    \n",
    "\n",
    "# # t2.start()\n",
    "\n",
    "# # wait until thread 1 is completely executed\n",
    "#     print(t1.join())\n",
    "# # wait until thread 2 is completely executed\n",
    "#     print(t2.join())\n",
    "\n",
    "# #     print(t1.value)\n",
    "# # both threads completely executed\n",
    "# print(\"Done!\")"
   ]
  },
  {
   "cell_type": "code",
   "execution_count": null,
   "id": "7a73724c",
   "metadata": {
    "code_folding": [
     0
    ]
   },
   "outputs": [],
   "source": [
    "#\n",
    "# # Python program to illustrate the concept\n",
    "# # of threading\n",
    "# # importing the threading module\n",
    "# import threading\n",
    "# import time \n",
    " \n",
    " \n",
    "# def print_cube(num):\n",
    "#     # function to print cube of given num\n",
    "#     c = 0 \n",
    "#     # function to print square of given num\n",
    "#     time.sleep(2)\n",
    "#     print(\"Cube: {}\" .format(num * num * num))\n",
    "#     print(time.time())\n",
    " \n",
    "\n",
    "# def print_square(num):\n",
    "#     c = 0 \n",
    "#     # function to print square of given num\n",
    "#     for i in range(1,50000):\n",
    "#         c +=1\n",
    "#     print(\"Square: {}\" .format(num * num))\n",
    "#     print(time.time())\n",
    "\n",
    " \n",
    " \n",
    "# if __name__ ==\"__main__\":\n",
    "#     # creating thread\n",
    "#     t1 = threading.Thread(target=print_square, args=(10,))\n",
    "#     t2 = threading.Thread(target=print_cube, args=(10,))\n",
    " \n",
    "#     # starting thread 1\n",
    "#     t1.start()\n",
    "#     # starting thread 2\n",
    "#     t2.start()\n",
    " \n",
    "#     # wait until thread 1 is completely executed\n",
    "# #     t1.join()\n",
    "#     # wait until thread 2 is completely executed\n",
    "# #     t2.join()\n",
    " \n",
    "#     # both threads completely executed\n",
    "#     print(\"Done!\")"
   ]
  },
  {
   "cell_type": "code",
   "execution_count": null,
   "id": "751f201f",
   "metadata": {
    "code_folding": [
     0
    ]
   },
   "outputs": [],
   "source": [
    "# # Python program to illustrate the concept\n",
    "# # of threading\n",
    "# # importing the threading module\n",
    "# import threading\n",
    "# import time\n",
    "# def print_cube(num):\n",
    "#     time.sleep(5)\n",
    "#     # function to print cube of given num\n",
    "#     print(\"Cube: {}\" .format(num * num * num),'\\n')\n",
    "    \n",
    "\n",
    "    \n",
    "# def print_square(num):\n",
    "#     time.sleep(5)\n",
    "#     # function to print square of given num\n",
    "#     print(\"Square: {}\" .format(num * num),'\\n')\n",
    "    \n",
    "\n",
    "# # creating thread\n",
    "# # t1 = threading.Thread(target=print_square, args=(10,))\n",
    "# # t2 = threading.Thread(target=print_cube, args=(10,))\n",
    "# # starting thread 1\n",
    "# # t1.start()\n",
    "# # starting thread 2\n",
    "# # t2.start()\n",
    "# # wait until thread 1 is completely executed\n",
    "# #t1.join()\n",
    "# # wait until thread 2 is completely executed\n",
    "# #t2.join()\n",
    "# # both threads completely executed\n",
    "# print(\"Done!\")"
   ]
  },
  {
   "cell_type": "code",
   "execution_count": null,
   "id": "44522189",
   "metadata": {
    "code_folding": [
     0
    ]
   },
   "outputs": [],
   "source": [
    "# got1,not_got1 = promoter_holding(y)\n",
    "# got1,not_got1 = t1.start(y)\n",
    "                 \n",
    "# if __name__ == '__main__':\n",
    "    \n",
    "#     got1,not_got1 = t1.start(y)\n",
    "# y"
   ]
  },
  {
   "cell_type": "code",
   "execution_count": null,
   "id": "56249223",
   "metadata": {
    "code_folding": [
     0
    ]
   },
   "outputs": [],
   "source": [
    "# stockcode = str('UPL')\n",
    "# stock_url  = f\"https://www.screener.in/company/{stockcode}/\"\n",
    "# response = requests.get(stock_url)\n",
    "# response\n",
    "# soup = BeautifulSoup(response.text, 'lxml')\n",
    "# soup\n",
    "# #soup.find_all('button ',{\"class\":\"button-plain\"})\n",
    "# soup.find_all('td')\n",
    "# # soup.find_all('button',{\"class\":\"button-plain\"})\n",
    "\n"
   ]
  },
  {
   "cell_type": "code",
   "execution_count": null,
   "id": "26092eaf",
   "metadata": {
    "code_folding": [
     0
    ]
   },
   "outputs": [],
   "source": [
    "# nowrap value\n",
    "# number\n",
    "\n",
    "# class=\"text\"\n",
    "# class=\"button-plain\""
   ]
  },
  {
   "cell_type": "code",
   "execution_count": null,
   "id": "7137fdd7",
   "metadata": {
    "code_folding": [
     0
    ]
   },
   "outputs": [],
   "source": [
    "# https://stockedge.com/Stocks/upl/7381\n",
    "#     https://ticker.finology.in/company/UPL"
   ]
  },
  {
   "cell_type": "code",
   "execution_count": null,
   "id": "01010c02",
   "metadata": {
    "code_folding": [
     0
    ]
   },
   "outputs": [],
   "source": [
    "# stockcode = str('UPL')\n",
    "# stock_url  = f\"https://stockedge.com/Stocks/{stockcode}/7381\"\n",
    "# response = requests.get(stock_url)\n",
    "# response\n",
    "# soup = BeautifulSoup(response.text, 'lxml')\n",
    "# soup\n",
    "# #soup.find_all('button ',{\"class\":\"button-plain\"})\n",
    "# soup.find_all('td',{\"data-name\":\"shp-data\"})[\n",
    "# # soup.find_all('button',{\"class\":\"button-plain\"})\n"
   ]
  },
  {
   "cell_type": "code",
   "execution_count": null,
   "id": "949bd253",
   "metadata": {
    "code_folding": [
     0
    ]
   },
   "outputs": [],
   "source": [
    "# import re\n",
    "# stockcode = str('ITC')\n",
    "# stock_url  = f\"https://ticker.finology.in/company/{stockcode}\"\n",
    "# response = requests.get(stock_url)\n",
    "# response\n",
    "# soup = BeautifulSoup(response.text, 'lxml')\n",
    "# soup\n",
    "# re.findall(r'\\d+.\\d*', soup.find_all('p')[15].text[1:])"
   ]
  },
  {
   "cell_type": "code",
   "execution_count": null,
   "id": "79e287b4",
   "metadata": {},
   "outputs": [],
   "source": [
    "# y"
   ]
  },
  {
   "cell_type": "code",
   "execution_count": null,
   "id": "ee307225",
   "metadata": {
    "code_folding": [
     0
    ]
   },
   "outputs": [],
   "source": [
    "# import re\n",
    "# stockcode = str('ITC')\n",
    "# stock_url  = f\"https://ticker.finology.in/company/{stockcode}\"\n",
    "# response = requests.get(stock_url)\n",
    "# response\n",
    "# soup = BeautifulSoup(response.text, 'lxml')\n",
    "# soup\n",
    "# re.findall(r'\\d+.\\d*', soup.find_all('p')[15].text[1:])"
   ]
  },
  {
   "cell_type": "markdown",
   "id": "ce993bbc",
   "metadata": {},
   "source": [
    "## Rough End"
   ]
  },
  {
   "cell_type": "code",
   "execution_count": null,
   "id": "bca2ff56",
   "metadata": {
    "code_folding": [
     0
    ]
   },
   "outputs": [],
   "source": [
    "# z['CURRENT_PRICE'] = int(z['CURRENT_PRICE'].replace(',', ''))\n",
    "# # int(rectify.replace(',', ''))"
   ]
  },
  {
   "cell_type": "code",
   "execution_count": null,
   "id": "a0af07ab",
   "metadata": {},
   "outputs": [],
   "source": [
    "# (price)"
   ]
  },
  {
   "cell_type": "code",
   "execution_count": null,
   "id": "e4c9e40c",
   "metadata": {
    "code_folding": [
     0
    ]
   },
   "outputs": [],
   "source": [
    "# prices = []\n",
    "# for i in y:\n",
    "# #     print(realpriceupdate(i))\n",
    "#     prices.append(realpriceupdate(i))\n",
    "    "
   ]
  },
  {
   "cell_type": "code",
   "execution_count": null,
   "id": "a7b71055",
   "metadata": {
    "code_folding": [
     0
    ],
    "scrolled": true
   },
   "outputs": [],
   "source": [
    "# print(len(prices))\n",
    "# len(y)\n",
    "# print(realpriceupdate(y[23]))\n",
    "# prices\n",
    "# # res = dict(zip(y,prices))\n",
    "# # res\n",
    "\n"
   ]
  },
  {
   "cell_type": "markdown",
   "id": "8a5a77a6",
   "metadata": {},
   "source": [
    "# Pending..."
   ]
  },
  {
   "cell_type": "code",
   "execution_count": null,
   "id": "208cde96",
   "metadata": {},
   "outputs": [],
   "source": [
    "# z['CURRENT_PRICE'] = z['CURRENT_PRICE'].str.strip(\",\")"
   ]
  },
  {
   "cell_type": "code",
   "execution_count": null,
   "id": "aab518d2",
   "metadata": {
    "code_folding": [
     0
    ]
   },
   "outputs": [],
   "source": [
    "# for i in z['CURRENT_PRICE']:\n",
    "#     if ',' in i:\n",
    "#         i.replace(',','')\n",
    "#         print(i)"
   ]
  },
  {
   "cell_type": "code",
   "execution_count": null,
   "id": "315f9ac2",
   "metadata": {},
   "outputs": [],
   "source": [
    "# abv_10cr['CURRENT_PRICE'].astype(float) < abv_10cr['AVGPRICE_PERSHARE']"
   ]
  },
  {
   "cell_type": "code",
   "execution_count": null,
   "id": "91688070",
   "metadata": {},
   "outputs": [],
   "source": [
    "# pending"
   ]
  },
  {
   "cell_type": "markdown",
   "id": "56f5b446",
   "metadata": {},
   "source": [
    "# Pending..."
   ]
  },
  {
   "cell_type": "code",
   "execution_count": null,
   "id": "c75d1bac",
   "metadata": {
    "code_folding": [
     0
    ]
   },
   "outputs": [],
   "source": [
    "# main_df = main_df.merge(z,on='SYMBOL')\n"
   ]
  },
  {
   "cell_type": "code",
   "execution_count": null,
   "id": "36e9e69b",
   "metadata": {
    "code_folding": [
     0
    ]
   },
   "outputs": [],
   "source": [
    "# def realpriceupdate(i):\n",
    "#     stockcode = str(i)\n",
    "#     stock_url  = f\"https://www.screener.in/company/{stockcode}/\"\n",
    "#     response = requests.get(stock_url)\n",
    "#     soup = BeautifulSoup(response.text, 'lxml')\n",
    "#     price = []\n",
    "#     if len(soup.find_all('div',{\"class\":\"flex flex-align-center\"})) > 0:\n",
    "        \n",
    "# #         price = soup.find_all('div',{\"class\":\"flex flex-align-center\"})[0]\n",
    "#         price = soup.find_all('div',{\"class\":\"flex flex-align-center\"})[0].find('span').text[1:]\n",
    "#     else:\n",
    "#         realpriceupdate(stockcode)\n",
    "    \n",
    "\n",
    "\n",
    "#     return(price)"
   ]
  },
  {
   "cell_type": "code",
   "execution_count": null,
   "id": "7b442ff0",
   "metadata": {
    "code_folding": [
     0
    ]
   },
   "outputs": [],
   "source": [
    "#\n",
    "\n",
    "# def realpriceupdate(y):\n",
    "#     price = {}\n",
    "#     not_happened = []\n",
    "#     for i in y:\n",
    "#         stockcode = str(i)\n",
    "#         stock_url  = f\"https://www.screener.in/company/{stockcode}/\"\n",
    "#         response = requests.get(stock_url)\n",
    "#         soup = BeautifulSoup(response.text, 'lxml')\n",
    "#         if len(soup.find_all('div',{\"class\":\"flex flex-align-center\"})) > 0:\n",
    "#             price[i] = (soup.find_all('div',{\"class\":\"flex flex-align-center\"})[0].find('span').text[1:])\n",
    "# #             price.append(soup.find_all('div',{\"class\":\"flex flex-align-center\"})[0].find('span').text[1:])\n",
    "#         else:\n",
    "#             not_happened.append(i)\n",
    "\n",
    "            \n",
    "            \n",
    "#     return(price,not_happened)\n"
   ]
  },
  {
   "cell_type": "code",
   "execution_count": null,
   "id": "bcdff58c",
   "metadata": {
    "code_folding": []
   },
   "outputs": [],
   "source": [
    "# a,b = realpriceupdate(y)"
   ]
  },
  {
   "cell_type": "code",
   "execution_count": null,
   "id": "5e8462e7",
   "metadata": {
    "code_folding": []
   },
   "outputs": [],
   "source": [
    "# a1,b1 = realpriceupdate(b)"
   ]
  },
  {
   "cell_type": "code",
   "execution_count": null,
   "id": "372756bf",
   "metadata": {},
   "outputs": [],
   "source": [
    "# price = {**a,**a1}\n"
   ]
  },
  {
   "cell_type": "code",
   "execution_count": null,
   "id": "8cbfd568",
   "metadata": {},
   "outputs": [],
   "source": [
    "# price"
   ]
  },
  {
   "cell_type": "code",
   "execution_count": null,
   "id": "af0f8b78",
   "metadata": {},
   "outputs": [],
   "source": [
    "# z.info()"
   ]
  },
  {
   "cell_type": "code",
   "execution_count": null,
   "id": "aa427b8b",
   "metadata": {
    "code_folding": [
     0
    ]
   },
   "outputs": [],
   "source": [
    "# import time \n",
    "\n",
    "# def realpriceupdate(i):\n",
    "#     stockcode = str(i)\n",
    "#     stock_url  = f\"https://www.screener.in/company/{stockcode}/\"\n",
    "#     response = requests.get(stock_url)\n",
    "#     soup = BeautifulSoup(response.text, 'lxml')\n",
    "#     price = soup.find_all('div',{\"class\":\"flex flex-align-center\"})[0].find('span').text[1:]\n",
    "#     return(price)\n"
   ]
  },
  {
   "cell_type": "code",
   "execution_count": null,
   "id": "8a396f25",
   "metadata": {
    "code_folding": [
     0
    ]
   },
   "outputs": [],
   "source": [
    "# stockcode = \"DHAMPURSUG\"\n",
    "# print(stockcode)"
   ]
  },
  {
   "cell_type": "code",
   "execution_count": null,
   "id": "4e11efd2",
   "metadata": {
    "code_folding": [
     0
    ]
   },
   "outputs": [],
   "source": [
    "# # stock_url  = 'https://www.nseindia.com/live_market/dynaContent/live_watch/get_quote/GetQuote.jsp?symbol='+str(stockcode)\n",
    "# stock_url  = f\"https://www.screener.in/company/{stockcode}/\"\n",
    "\n",
    "# print(stock_url)\n",
    "\n",
    "# response = requests.get(stock_url)\n"
   ]
  },
  {
   "cell_type": "code",
   "execution_count": null,
   "id": "08669d6f",
   "metadata": {},
   "outputs": [],
   "source": [
    "# print(response)"
   ]
  },
  {
   "cell_type": "code",
   "execution_count": null,
   "id": "e49a544d",
   "metadata": {},
   "outputs": [],
   "source": [
    "# soup = BeautifulSoup(response.text, 'lxml')"
   ]
  },
  {
   "cell_type": "code",
   "execution_count": null,
   "id": "d06a1bca",
   "metadata": {},
   "outputs": [],
   "source": [
    "# price = soup.find_all('div',{\"class\":\"flex flex-align-center\"})[0].find('span').text[1:]"
   ]
  },
  {
   "cell_type": "code",
   "execution_count": null,
   "id": "14b06580",
   "metadata": {},
   "outputs": [],
   "source": [
    "# print(price)"
   ]
  },
  {
   "cell_type": "code",
   "execution_count": null,
   "id": "9fe9114f",
   "metadata": {
    "code_folding": [
     0
    ]
   },
   "outputs": [],
   "source": [
    "# def real_price():\n",
    "#     stockcode = \"DHAMPURSUG\"\n",
    "#     stock_url  = f\"https://www.screener.in/company/{stockcode}/\"\n",
    "#     response = requests.get(stock_url)\n",
    "#     soup = BeautifulSoup(response.text, 'lxml')\n",
    "#     price = soup.find_all('div',{\"class\":\"flex flex-align-center\"})[0].find('span').text[1:]\n",
    "#     print(price)\n",
    "\n",
    "    "
   ]
  }
 ],
 "metadata": {
  "kernelspec": {
   "display_name": "Python 3",
   "language": "python",
   "name": "python3"
  },
  "language_info": {
   "codemirror_mode": {
    "name": "ipython",
    "version": 3
   },
   "file_extension": ".py",
   "mimetype": "text/x-python",
   "name": "python",
   "nbconvert_exporter": "python",
   "pygments_lexer": "ipython3",
   "version": "3.8.8"
  }
 },
 "nbformat": 4,
 "nbformat_minor": 5
}
